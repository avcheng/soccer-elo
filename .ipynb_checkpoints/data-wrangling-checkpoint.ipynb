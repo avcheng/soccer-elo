{
 "cells": [
  {
   "cell_type": "markdown",
   "metadata": {},
   "source": [
    "TODO: \n",
    "- Need to take into account ties.\n",
    "    - Right now, ties are ignored: does this make sense? From a ratings stand point, makes sense that teams' ratings would not increase or decrease; however, certainty of ratings should decrease after these matches.\n",
    "        - Answer about variances: \"variances are kept at $\\sigma^2$\"; thus, feels appropriate to ignore ties in this sense. "
   ]
  },
  {
   "cell_type": "code",
   "execution_count": 14,
   "metadata": {},
   "outputs": [],
   "source": [
    "import pandas as pd\n",
    "import numpy as np"
   ]
  },
  {
   "cell_type": "code",
   "execution_count": 126,
   "metadata": {},
   "outputs": [],
   "source": [
    "from jax_elo.models.margin_model import fit, calculate_ratings, predict, get_player_skill_history\n",
    "from jax_elo.utils.data import get_data"
   ]
  },
  {
   "cell_type": "code",
   "execution_count": 4,
   "metadata": {},
   "outputs": [],
   "source": [
    "mls_big = pd.read_csv('data/mls2001-2021.csv', low_memory=False)"
   ]
  },
  {
   "cell_type": "code",
   "execution_count": 81,
   "metadata": {},
   "outputs": [],
   "source": [
    "mls_to_22 = mls_big[['home', 'away', 'date', 'year', 'venue', 'league', 'game_status', 'shootout', 'home_score', 'away_score', \n",
    "                    'part_of_competition']]"
   ]
  },
  {
   "cell_type": "code",
   "execution_count": 83,
   "metadata": {},
   "outputs": [],
   "source": [
    "mlsRegularSeason = mls_to_22.loc[mls_to_22.part_of_competition.str.contains('Regular Season')].drop(columns='part_of_competition')\n",
    "mlsRegularSeason.loc[mlsRegularSeason.shootout.isna(), 'shootout'] = False"
   ]
  },
  {
   "cell_type": "code",
   "execution_count": 123,
   "metadata": {},
   "outputs": [],
   "source": [
    "mlsRegularSeason.loc[mlsRegularSeason['year'] < 2001, 'date_corrected'] = \\\n",
    "        pd.to_datetime(mlsRegularSeason.loc[mlsRegularSeason['year'] < 2001, 'date'], format=\"%m/%d/%Y\")\n",
    "mlsRegularSeason.loc[mlsRegularSeason['year'] >= 2001, 'date_corrected'] = \\\n",
    "        mlsRegularSeason.loc[mlsRegularSeason['year'] >= 2001, 'date'].str.cat(\n",
    "            mlsRegularSeason.loc[mlsRegularSeason['year'] >= 2001, 'year'].apply(str), sep=\", \"\n",
    "        )\n",
    "mlsRegularSeason.loc[mlsRegularSeason['year'] >= 2001, 'date_corrected'] = \\\n",
    "        pd.to_datetime(mlsRegularSeason.loc[mlsRegularSeason['year'] >= 2001, 'date_corrected'], format=\"%A, %B %d, %Y\")"
   ]
  },
  {
   "cell_type": "code",
   "execution_count": 124,
   "metadata": {},
   "outputs": [],
   "source": [
    "mlsWL = mlsRegularSeason.copy() \n",
    "mlsWL['score_difference'] = mlsWL['home_score'] - mlsWL['away_score'] \n",
    "mlsWL['margin'] = np.abs(mlsWL['score_difference'])\n",
    "mlsWL['winner'] = np.NaN\n",
    "mlsWL['loser'] = np.NaN\n",
    "\n",
    "mlsWL.loc[mlsWL['score_difference'] > 0, 'winner'] = mlsWL.loc[mlsWL['score_difference'] > 0, 'home']\n",
    "mlsWL.loc[mlsWL['score_difference'] > 0, 'loser'] = mlsWL.loc[mlsWL['score_difference'] > 0, 'away']\n",
    "\n",
    "mlsWL.loc[mlsWL['score_difference'] < 0, 'winner'] = mlsWL.loc[mlsWL['score_difference'] < 0, 'away']\n",
    "mlsWL.loc[mlsWL['score_difference'] < 0, 'loser'] = mlsWL.loc[mlsWL['score_difference'] < 0, 'home']\n",
    "\n",
    "mlsWL.loc[mlsWL['winner'] == 'Chicago', 'winner'] = 'Chicago Fire FC'\n",
    "mlsWL.loc[mlsWL['winner'] == 'Colorado', 'winner'] = 'Colorado Rapids'\n",
    "mlsWL.loc[mlsWL['winner'] == 'Columbus', 'winner'] = 'Columbus Crew SC'\n",
    "mlsWL.loc[mlsWL['winner'] == 'Columbus Crew', 'winner'] = 'Columbus Crew SC'\n",
    "mlsWL.loc[mlsWL['winner'] == 'DC United', 'winner'] = 'D.C. United'\n",
    "mlsWL.loc[mlsWL['winner'] == 'Dallas', 'winner'] = 'FC Dallas'\n",
    "mlsWL.loc[mlsWL['winner'] == 'Houston Dynamo', 'winner'] = 'Houston Dynamo FC'\n",
    "mlsWL.loc[mlsWL['winner'] == 'Miami', 'winner'] = 'Inter Miami CF'\n",
    "mlsWL.loc[mlsWL['winner'] == 'KC Wiz', 'winner'] = 'KC Wizards'\n",
    "mlsWL.loc[mlsWL['winner'] == 'Montreal Impact', 'winner'] = 'CF Montréal'\n",
    "mlsWL.loc[mlsWL['winner'] == 'New England', 'winner'] = 'New England Revolution'\n",
    "mlsWL.loc[mlsWL['winner'] == 'San Jose', 'winner'] = 'San Jose Earthquakes'\n",
    "mlsWL.loc[mlsWL['winner'] == 'MetroStars', 'winner'] = 'New York Red Bulls'\n",
    "mlsWL.loc[mlsWL['winner'] == 'Tampa Bay', 'winner'] = 'Tampa Bay Mutiny'\n",
    "\n",
    "mlsWL.loc[mlsWL['loser'] == 'Chicago', 'loser'] = 'Chicago Fire FC'\n",
    "mlsWL.loc[mlsWL['loser'] == 'Colorado', 'loser'] = 'Colorado Rapids'\n",
    "mlsWL.loc[mlsWL['loser'] == 'Columbus', 'loser'] = 'Columbus Crew SC'\n",
    "mlsWL.loc[mlsWL['loser'] == 'Columbus Crew', 'loser'] = 'Columbus Crew SC'\n",
    "mlsWL.loc[mlsWL['loser'] == 'DC United', 'loser'] = 'D.C. United'\n",
    "mlsWL.loc[mlsWL['loser'] == 'Dallas', 'loser'] = 'FC Dallas'\n",
    "mlsWL.loc[mlsWL['loser'] == 'Houston Dynamo', 'loser'] = 'Houston Dynamo FC'\n",
    "mlsWL.loc[mlsWL['loser'] == 'Miami', 'loser'] = 'Inter Miami CF'\n",
    "mlsWL.loc[mlsWL['loser'] == 'KC Wiz', 'loser'] = 'KC Wizards'\n",
    "mlsWL.loc[mlsWL['loser'] == 'Montreal Impact', 'loser'] = 'CF Montréal'\n",
    "mlsWL.loc[mlsWL['loser'] == 'New England', 'loser'] = 'New England Revolution'\n",
    "mlsWL.loc[mlsWL['loser'] == 'San Jose', 'loser'] = 'San Jose Earthquakes'\n",
    "mlsWL.loc[mlsWL['loser'] == 'MetroStars', 'loser'] = 'New York Red Bulls'\n",
    "mlsWL.loc[mlsWL['loser'] == 'Tampa Bay', 'loser'] = 'Tampa Bay Mutiny'"
   ]
  },
  {
   "cell_type": "code",
   "execution_count": 125,
   "metadata": {},
   "outputs": [],
   "source": [
    "to_use = mlsWL[['winner', 'loser', 'margin', 'date_corrected']]"
   ]
  },
  {
   "cell_type": "code",
   "execution_count": 127,
   "metadata": {
    "scrolled": true
   },
   "outputs": [
    {
     "name": "stdout",
     "output_type": "stream",
     "text": [
      "theta: {'a1': 0.1, 'a2': array(0.), 'sigma_obs': 0.1, 'cov_mat': Array([[1.000001]], dtype=float64)}\n",
      "cov_mat: [[1.000001]]\n",
      "theta: {'a1': Traced<ShapedArray(float64[])>with<JVPTrace(level=3/0)> with\n",
      "  primal = Traced<ShapedArray(float64[])>with<DynamicJaxprTrace(level=1/0)>\n",
      "  tangent = Traced<ShapedArray(float64[])>with<JaxprTrace(level=2/0)> with\n",
      "    pval = (ShapedArray(float64[]), None)\n",
      "    recipe = JaxprEqnRecipe(eqn_id=<object object at 0x7f95e389f580>, in_tracers=(Traced<ShapedArray(float64[]):JaxprTrace(level=2/0)>, Traced<ShapedArray(float64[]):JaxprTrace(level=2/0)>), out_tracer_refs=[<weakref at 0x7f95e56b85e0; to 'JaxprTracer' at 0x7f95e56b8900>], out_avals=[ShapedArray(float64[])], primitive=mul, params={}, effects=frozenset(), source_info=SourceInfo(traceback=<jaxlib.xla_extension.Traceback object at 0x7f95e4d1a5e0>, name_stack=NameStack(stack=(Transform(name='jvp'),)))), 'a2': Traced<ShapedArray(float64[])>with<JVPTrace(level=3/0)> with\n",
      "  primal = Traced<ShapedArray(float64[])>with<DynamicJaxprTrace(level=1/0)>\n",
      "  tangent = Traced<ShapedArray(float64[])>with<JaxprTrace(level=2/0)> with\n",
      "    pval = (ShapedArray(float64[]), None)\n",
      "    recipe = JaxprEqnRecipe(eqn_id=<object object at 0x7f95e4902a60>, in_tracers=(Traced<ShapedArray(float64[1]):JaxprTrace(level=2/0)>,), out_tracer_refs=[<weakref at 0x7f95e4b42540; to 'JaxprTracer' at 0x7f95e4b42400>], out_avals=[ShapedArray(float64[])], primitive=reshape, params={'new_sizes': (), 'dimensions': None}, effects=frozenset(), source_info=SourceInfo(traceback=<jaxlib.xla_extension.Traceback object at 0x7f95e21214e0>, name_stack=NameStack(stack=(Transform(name='jvp'),)))), 'sigma_obs': Traced<ShapedArray(float64[])>with<JVPTrace(level=3/0)> with\n",
      "  primal = Traced<ShapedArray(float64[])>with<DynamicJaxprTrace(level=1/0)>\n",
      "  tangent = Traced<ShapedArray(float64[])>with<JaxprTrace(level=2/0)> with\n",
      "    pval = (ShapedArray(float64[]), None)\n",
      "    recipe = JaxprEqnRecipe(eqn_id=<object object at 0x7f95e389f600>, in_tracers=(Traced<ShapedArray(float64[]):JaxprTrace(level=2/0)>, Traced<ShapedArray(float64[]):JaxprTrace(level=2/0)>), out_tracer_refs=[<weakref at 0x7f95e56b8cc0; to 'JaxprTracer' at 0x7f95e56b8a90>], out_avals=[ShapedArray(float64[])], primitive=mul, params={}, effects=frozenset(), source_info=SourceInfo(traceback=<jaxlib.xla_extension.Traceback object at 0x7f95e4d1b1c0>, name_stack=NameStack(stack=(Transform(name='jvp'),)))), 'cov_mat': Traced<ShapedArray(float64[1,1])>with<JVPTrace(level=3/0)> with\n",
      "  primal = Traced<ShapedArray(float64[1,1])>with<DynamicJaxprTrace(level=1/0)>\n",
      "  tangent = Traced<ShapedArray(float64[1,1])>with<JaxprTrace(level=2/0)> with\n",
      "    pval = (ShapedArray(float64[1,1]), None)\n",
      "    recipe = JaxprEqnRecipe(eqn_id=<object object at 0x7f95e389f4e0>, in_tracers=(Traced<ShapedArray(float64[1,1]):JaxprTrace(level=2/0)>,), out_tracer_refs=[<weakref at 0x7f95e56b8f90; to 'JaxprTracer' at 0x7f95e56b8680>], out_avals=[ShapedArray(float64[1,1])], primitive=pjit, params={'jaxpr': { \u001b[34m\u001b[22m\u001b[1mlambda \u001b[39m\u001b[22m\u001b[22m; a\u001b[35m:f64[1,1]\u001b[39m. \u001b[34m\u001b[22m\u001b[1mlet\u001b[39m\u001b[22m\u001b[22m  \u001b[34m\u001b[22m\u001b[1min \u001b[39m\u001b[22m\u001b[22m(a,) }, 'in_shardings': (UnspecifiedValue,), 'out_shardings': (UnspecifiedValue,), 'resource_env': None, 'donated_invars': (False,), 'name': 'fn', 'keep_unused': False, 'inline': True}, effects=set(), source_info=SourceInfo(traceback=<jaxlib.xla_extension.Traceback object at 0x7f95e4d19b40>, name_stack=NameStack(stack=(Transform(name='jvp'),))))}\n",
      "cov_mat: Traced<ShapedArray(float64[1,1])>with<JVPTrace(level=3/0)> with\n",
      "  primal = Traced<ShapedArray(float64[1,1])>with<DynamicJaxprTrace(level=1/0)>\n",
      "  tangent = Traced<ShapedArray(float64[1,1])>with<JaxprTrace(level=2/0)> with\n",
      "    pval = (ShapedArray(float64[1,1]), None)\n",
      "    recipe = JaxprEqnRecipe(eqn_id=<object object at 0x7f95e389f4e0>, in_tracers=(Traced<ShapedArray(float64[1,1]):JaxprTrace(level=2/0)>,), out_tracer_refs=[<weakref at 0x7f95e56b8f90; to 'JaxprTracer' at 0x7f95e56b8680>], out_avals=[ShapedArray(float64[1,1])], primitive=pjit, params={'jaxpr': { \u001b[34m\u001b[22m\u001b[1mlambda \u001b[39m\u001b[22m\u001b[22m; a\u001b[35m:f64[1,1]\u001b[39m. \u001b[34m\u001b[22m\u001b[1mlet\u001b[39m\u001b[22m\u001b[22m  \u001b[34m\u001b[22m\u001b[1min \u001b[39m\u001b[22m\u001b[22m(a,) }, 'in_shardings': (UnspecifiedValue,), 'out_shardings': (UnspecifiedValue,), 'resource_env': None, 'donated_invars': (False,), 'name': 'fn', 'keep_unused': False, 'inline': True}, effects=set(), source_info=SourceInfo(traceback=<jaxlib.xla_extension.Traceback object at 0x7f95e4d19b40>, name_stack=NameStack(stack=(Transform(name='jvp'),))))\n",
      "theta: {'a1': 1.0245152820380417, 'a2': array(0.09979203), 'sigma_obs': 1.0669701465288037, 'cov_mat': Array([[1.23217473]], dtype=float64)}\n",
      "cov_mat: [[1.23217473]]\n",
      "theta: {'a1': 10685.997388888369, 'a2': array(134.97522829), 'sigma_obs': 8214.134564001708, 'cov_mat': Array([[1816.12692467]], dtype=float64)}\n",
      "cov_mat: [[1816.12692467]]\n",
      "theta: {'a1': 820.4541399959137, 'a2': array(38.41776861), 'sigma_obs': 701.6091729808663, 'cov_mat': Array([[127.97267222]], dtype=float64)}\n",
      "cov_mat: [[127.97267222]]\n",
      "theta: {'a1': 36.73789643502643, 'a2': array(9.23923095), 'sigma_obs': 50.47180173190194, 'cov_mat': Array([[3.43337328]], dtype=float64)}\n",
      "cov_mat: [[3.43337328]]\n",
      "theta: {'a1': 0.2413565007505415, 'a2': array(2.0424064), 'sigma_obs': 5.3983642578040785, 'cov_mat': Array([[0.23063669]], dtype=float64)}\n",
      "cov_mat: [[0.23063669]]\n",
      "theta: {'a1': 0.3785286981163928, 'a2': array(0.61267077), 'sigma_obs': 1.886920538253657, 'cov_mat': Array([[0.89068391]], dtype=float64)}\n",
      "cov_mat: [[0.89068391]]\n",
      "theta: {'a1': 0.7108972574513799, 'a2': array(2.23858617), 'sigma_obs': 0.9228435813025604, 'cov_mat': Array([[0.52762289]], dtype=float64)}\n",
      "cov_mat: [[0.52762289]]\n",
      "theta: {'a1': 0.5220484614806146, 'a2': array(1.37805797), 'sigma_obs': 1.3905914846810008, 'cov_mat': Array([[0.70800221]], dtype=float64)}\n",
      "cov_mat: [[0.70800221]]\n",
      "theta: {'a1': 2.5835193640387706, 'a2': array(1.85701299), 'sigma_obs': 0.7252451536499812, 'cov_mat': Array([[9.30021933]], dtype=float64)}\n",
      "cov_mat: [[9.30021933]]\n",
      "theta: {'a1': 0.5944254353673738, 'a2': array(1.40429033), 'sigma_obs': 1.3485937155523557, 'cov_mat': Array([[0.39478085]], dtype=float64)}\n",
      "cov_mat: [[0.39478085]]\n",
      "theta: {'a1': 0.666571947778363, 'a2': array(1.42889224), 'sigma_obs': 1.30979143871214, 'cov_mat': Array([[0.18356862]], dtype=float64)}\n",
      "cov_mat: [[0.18356862]]\n",
      "theta: {'a1': 1.4686671593727676, 'a2': array(1.64295262), 'sigma_obs': 0.9960783179418242, 'cov_mat': Array([[1.71764454]], dtype=float64)}\n",
      "cov_mat: [[1.71764454]]\n",
      "theta: {'a1': 0.7600052176833366, 'a2': array(1.45885073), 'sigma_obs': 1.2633055469252683, 'cov_mat': Array([[0.03424957]], dtype=float64)}\n",
      "cov_mat: [[0.03424957]]\n",
      "theta: {'a1': 1.6909463505875897, 'a2': array(1.21661684), 'sigma_obs': 0.8970591620841236, 'cov_mat': Array([[1.32842005]], dtype=float64)}\n",
      "cov_mat: [[1.32842005]]\n",
      "theta: {'a1': 0.8371712780469373, 'a2': array(1.43444097), 'sigma_obs': 1.2235654857977172, 'cov_mat': Array([[0.00252818]], dtype=float64)}\n",
      "cov_mat: [[0.00252818]]\n",
      "theta: {'a1': 0.9172322597247253, 'a2': array(1.37433683), 'sigma_obs': 1.1380871281544782, 'cov_mat': Array([[0.00768315]], dtype=float64)}\n",
      "cov_mat: [[0.00768315]]\n",
      "theta: {'a1': 0.977802866045091, 'a2': array(1.17708177), 'sigma_obs': 1.0894595759966599, 'cov_mat': Array([[0.04549397]], dtype=float64)}\n",
      "cov_mat: [[0.04549397]]\n",
      "theta: {'a1': 0.9472447072874506, 'a2': array(1.27580958), 'sigma_obs': 1.1136653650294415, 'cov_mat': Array([[0.0226228]], dtype=float64)}\n",
      "cov_mat: [[0.0226228]]\n",
      "theta: {'a1': 0.9680643857027876, 'a2': array(1.26872555), 'sigma_obs': 1.0985460170906853, 'cov_mat': Array([[0.01852708]], dtype=float64)}\n",
      "cov_mat: [[0.01852708]]\n",
      "theta: {'a1': 0.9647067291066954, 'a2': array(1.27480771), 'sigma_obs': 1.0969844897572403, 'cov_mat': Array([[0.02139536]], dtype=float64)}\n",
      "cov_mat: [[0.02139536]]\n",
      "theta: {'a1': 0.9663251787160069, 'a2': array(1.27187468), 'sigma_obs': 1.0977373734433602, 'cov_mat': Array([[0.01998641]], dtype=float64)}\n",
      "cov_mat: [[0.01998641]]\n",
      "theta: {'a1': 0.9626455935535548, 'a2': array(1.27231466), 'sigma_obs': 1.101366795767348, 'cov_mat': Array([[0.02005312]], dtype=float64)}\n",
      "cov_mat: [[0.02005312]]\n",
      "theta: {'a1': 0.9638735701628665, 'a2': array(1.2721707), 'sigma_obs': 1.100143576586994, 'cov_mat': Array([[0.02003853]], dtype=float64)}\n",
      "cov_mat: [[0.02003853]]\n",
      "theta: {'a1': 0.9638772529236789, 'a2': array(1.27217164), 'sigma_obs': 1.1001394457278426, 'cov_mat': Array([[0.02003785]], dtype=float64)}\n",
      "cov_mat: [[0.02003785]]\n",
      "theta: {'a1': 0.963879624769139, 'a2': array(1.27217211), 'sigma_obs': 1.1001352370275053, 'cov_mat': Array([[0.02003728]], dtype=float64)}\n",
      "cov_mat: [[0.02003728]]\n",
      "theta: {'a1': 0.9638800056621092, 'a2': array(1.2721727), 'sigma_obs': 1.100130695887144, 'cov_mat': Array([[0.02003674]], dtype=float64)}\n",
      "cov_mat: [[0.02003674]]\n",
      "theta: {'a1': 0.9638772179208747, 'a2': array(1.27217341), 'sigma_obs': 1.1001250863352374, 'cov_mat': Array([[0.02003621]], dtype=float64)}\n",
      "cov_mat: [[0.02003621]]\n",
      "theta: {'a1': 0.9638682385945945, 'a2': array(1.27217438), 'sigma_obs': 1.100117488545617, 'cov_mat': Array([[0.02003572]], dtype=float64)}\n",
      "cov_mat: [[0.02003572]]\n",
      "theta: {'a1': 0.9638465798435322, 'a2': array(1.27217576), 'sigma_obs': 1.1001065797310519, 'cov_mat': Array([[0.02003538]], dtype=float64)}\n",
      "cov_mat: [[0.02003538]]\n",
      "theta: {'a1': 0.963798901867308, 'a2': array(1.27217782), 'sigma_obs': 1.1000903931498407, 'cov_mat': Array([[0.02003551]], dtype=float64)}\n",
      "cov_mat: [[0.02003551]]\n",
      "theta: {'a1': 0.9636984965475749, 'a2': array(1.2721809), 'sigma_obs': 1.1000661151214925, 'cov_mat': Array([[0.02003692]], dtype=float64)}\n",
      "cov_mat: [[0.02003692]]\n",
      "theta: {'a1': 0.9634940930923027, 'a2': array(1.27218546), 'sigma_obs': 1.100030240856913, 'cov_mat': Array([[0.02004133]], dtype=float64)}\n",
      "cov_mat: [[0.02004133]]\n",
      "theta: {'a1': 0.9630955231654758, 'a2': array(1.27219186), 'sigma_obs': 1.099979814052964, 'cov_mat': Array([[0.02005218]], dtype=float64)}\n",
      "cov_mat: [[0.02005218]]\n",
      "theta: {'a1': 0.9623646025992753, 'a2': array(1.27220013), 'sigma_obs': 1.0999146424010413, 'cov_mat': Array([[0.0200752]], dtype=float64)}\n",
      "cov_mat: [[0.0200752]]\n",
      "theta: {'a1': 0.961096624256038, 'a2': array(1.27221007), 'sigma_obs': 1.099836165251543, 'cov_mat': Array([[0.02011918]], dtype=float64)}\n",
      "cov_mat: [[0.02011918]]\n",
      "theta: {'a1': 0.9589292585215403, 'a2': array(1.27222196), 'sigma_obs': 1.0997420552924944, 'cov_mat': Array([[0.02019919]], dtype=float64)}\n",
      "cov_mat: [[0.02019919]]\n",
      "theta: {'a1': 0.9551664030836624, 'a2': array(1.2722368), 'sigma_obs': 1.0996242310814632, 'cov_mat': Array([[0.02034424]], dtype=float64)}\n",
      "cov_mat: [[0.02034424]]\n",
      "theta: {'a1': 0.9484979283640551, 'a2': array(1.27225622), 'sigma_obs': 1.0994691004238293, 'cov_mat': Array([[0.02061048]], dtype=float64)}\n",
      "cov_mat: [[0.02061048]]\n",
      "theta: {'a1': 0.9365286247317302, 'a2': array(1.27228245), 'sigma_obs': 1.0992570061318916, 'cov_mat': Array([[0.02110623]], dtype=float64)}\n",
      "cov_mat: [[0.02110623]]\n",
      "theta: {'a1': 0.9151068214167025, 'a2': array(1.27231784), 'sigma_obs': 1.0989632383980203, 'cov_mat': Array([[0.02203867]], dtype=float64)}\n",
      "cov_mat: [[0.02203867]]\n",
      "theta: {'a1': 0.8784559706917329, 'a2': array(1.27236136), 'sigma_obs': 1.0985786559667674, 'cov_mat': Array([[0.02376603]], dtype=float64)}\n",
      "cov_mat: [[0.02376603]]\n",
      "theta: {'a1': 0.8346573088533413, 'a2': array(1.27238675), 'sigma_obs': 1.0982947786766575, 'cov_mat': Array([[0.02612294]], dtype=float64)}\n",
      "cov_mat: [[0.02612294]]\n",
      "theta: {'a1': 0.7978866108563848, 'a2': array(1.27237667), 'sigma_obs': 1.0983022597067125, 'cov_mat': Array([[0.02847543]], dtype=float64)}\n",
      "cov_mat: [[0.02847543]]\n",
      "theta: {'a1': 0.7593677887406667, 'a2': array(1.27233128), 'sigma_obs': 1.0986117398821629, 'cov_mat': Array([[0.03140624]], dtype=float64)}\n",
      "cov_mat: [[0.03140624]]\n",
      "theta: {'a1': 0.7088303233878326, 'a2': array(1.27222649), 'sigma_obs': 1.0993779407069633, 'cov_mat': Array([[0.03610439]], dtype=float64)}\n",
      "cov_mat: [[0.03610439]]\n",
      "theta: {'a1': 0.6182474272321198, 'a2': array(1.27203579), 'sigma_obs': 1.100689096358456, 'cov_mat': Array([[0.04669589]], dtype=float64)}\n",
      "cov_mat: [[0.04669589]]\n",
      "theta: {'a1': 0.5837974763474607, 'a2': array(1.27175409), 'sigma_obs': 1.1024611681492307, 'cov_mat': Array([[0.05553846]], dtype=float64)}\n",
      "cov_mat: [[0.05553846]]\n",
      "theta: {'a1': 0.5378416933080782, 'a2': array(1.27168193), 'sigma_obs': 1.102867298970501, 'cov_mat': Array([[0.06361182]], dtype=float64)}\n",
      "cov_mat: [[0.06361182]]\n",
      "theta: {'a1': 0.4439412726101337, 'a2': array(1.27157747), 'sigma_obs': 1.103296355755036, 'cov_mat': Array([[0.08469734]], dtype=float64)}\n",
      "cov_mat: [[0.08469734]]\n",
      "theta: {'a1': 0.49755498901371126, 'a2': array(1.27163833), 'sigma_obs': 1.1030463689006953, 'cov_mat': Array([[0.07204616]], dtype=float64)}\n",
      "cov_mat: [[0.07204616]]\n",
      "theta: {'a1': 0.48248667670360107, 'a2': array(1.27187553), 'sigma_obs': 1.101557225439336, 'cov_mat': Array([[0.07608827]], dtype=float64)}\n",
      "cov_mat: [[0.07608827]]\n",
      "theta: {'a1': 0.4801794662797559, 'a2': array(1.27221436), 'sigma_obs': 1.0996964430736802, 'cov_mat': Array([[0.07827553]], dtype=float64)}\n",
      "cov_mat: [[0.07827553]]\n",
      "theta: {'a1': 0.44643227387476736, 'a2': array(1.27233322), 'sigma_obs': 1.0990930763035105, 'cov_mat': Array([[0.08918093]], dtype=float64)}\n",
      "cov_mat: [[0.08918093]]\n",
      "theta: {'a1': 0.423076225794131, 'a2': array(1.27238415), 'sigma_obs': 1.0987492325363393, 'cov_mat': Array([[0.09972282]], dtype=float64)}\n",
      "cov_mat: [[0.09972282]]\n",
      "theta: {'a1': 0.3943841677946821, 'a2': array(1.27233824), 'sigma_obs': 1.0989081920324155, 'cov_mat': Array([[0.1158397]], dtype=float64)}\n",
      "cov_mat: [[0.1158397]]\n",
      "theta: {'a1': 0.33555574664924476, 'a2': array(1.27218897), 'sigma_obs': 1.0996247596160138, 'cov_mat': Array([[0.15520119]], dtype=float64)}\n",
      "cov_mat: [[0.15520119]]\n",
      "theta: {'a1': 0.30173634947830436, 'a2': array(1.27201221), 'sigma_obs': 1.1004092614551213, 'cov_mat': Array([[0.19681277]], dtype=float64)}\n",
      "cov_mat: [[0.19681277]]\n",
      "theta: {'a1': 0.22569067173699373, 'a2': array(1.27195208), 'sigma_obs': 1.1006094123799737, 'cov_mat': Array([[0.30881609]], dtype=float64)}\n",
      "cov_mat: [[0.30881609]]\n",
      "theta: {'a1': 0.2656592739325778, 'a2': array(1.27198476), 'sigma_obs': 1.1005006147506702, 'cov_mat': Array([[0.24481837]], dtype=float64)}\n",
      "cov_mat: [[0.24481837]]\n",
      "theta: {'a1': 0.24323116948779114, 'a2': array(1.27199247), 'sigma_obs': 1.1003993950665127, 'cov_mat': Array([[0.29424175]], dtype=float64)}\n",
      "cov_mat: [[0.29424175]]\n",
      "theta: {'a1': 0.22053770933680641, 'a2': array(1.27201473), 'sigma_obs': 1.1001055329068914, 'cov_mat': Array([[0.3723819]], dtype=float64)}\n",
      "cov_mat: [[0.3723819]]\n",
      "theta: {'a1': 0.15017274398180816, 'a2': array(1.27202081), 'sigma_obs': 1.0998101898099455, 'cov_mat': Array([[0.63912642]], dtype=float64)}\n",
      "cov_mat: [[0.63912642]]\n",
      "theta: {'a1': 0.19432616123976654, 'a2': array(1.27201686), 'sigma_obs': 1.100001951749535, 'cov_mat': Array([[0.45777583]], dtype=float64)}\n",
      "cov_mat: [[0.45777583]]\n",
      "theta: {'a1': 0.16932152028739014, 'a2': array(1.27201429), 'sigma_obs': 1.0999286272830335, 'cov_mat': Array([[0.58669854]], dtype=float64)}\n",
      "cov_mat: [[0.58669854]]\n",
      "theta: {'a1': 0.1529940713440739, 'a2': array(1.27200808), 'sigma_obs': 1.0998860815452427, 'cov_mat': Array([[0.73331483]], dtype=float64)}\n",
      "cov_mat: [[0.73331483]]\n",
      "theta: {'a1': 0.12956240768088254, 'a2': array(1.27190158), 'sigma_obs': 1.0998899561754913, 'cov_mat': Array([[1.04417637]], dtype=float64)}\n",
      "cov_mat: [[1.04417637]]\n",
      "theta: {'a1': 0.08901609879228906, 'a2': array(1.27182764), 'sigma_obs': 1.0999238127257842, 'cov_mat': Array([[1.87715117]], dtype=float64)}\n",
      "cov_mat: [[1.87715117]]\n",
      "theta: {'a1': 0.10824435163959144, 'a2': array(1.27186444), 'sigma_obs': 1.0999069649852804, 'cov_mat': Array([[1.43232928]], dtype=float64)}\n",
      "cov_mat: [[1.43232928]]\n",
      "theta: {'a1': 0.09228843131071258, 'a2': array(1.27180708), 'sigma_obs': 1.099919744825438, 'cov_mat': Array([[2.00786196]], dtype=float64)}\n",
      "cov_mat: [[2.00786196]]\n",
      "theta: {'a1': 0.06774808250134165, 'a2': array(1.27165916), 'sigma_obs': 1.0998681705983286, 'cov_mat': Array([[3.45221307]], dtype=float64)}\n",
      "cov_mat: [[3.45221307]]\n",
      "theta: {'a1': 0.05565529621622129, 'a2': array(1.27147074), 'sigma_obs': 1.0997811835388867, 'cov_mat': Array([[5.48001897]], dtype=float64)}\n",
      "cov_mat: [[5.48001897]]\n",
      "theta: {'a1': 0.02486609822186423, 'a2': array(1.27124184), 'sigma_obs': 1.0996197443790956, 'cov_mat': Array([[13.21694142]], dtype=float64)}\n",
      "cov_mat: [[13.21694142]]\n",
      "theta: {'a1': 0.045278605627676896, 'a2': array(1.27140307), 'sigma_obs': 1.0997334545508148, 'cov_mat': Array([[7.41837227]], dtype=float64)}\n",
      "cov_mat: [[7.41837227]]\n",
      "theta: {'a1': 0.03914124802259359, 'a2': array(1.27131999), 'sigma_obs': 1.0996429645496917, 'cov_mat': Array([[9.89425461]], dtype=float64)}\n",
      "cov_mat: [[9.89425461]]\n",
      "theta: {'a1': 0.03356677538555801, 'a2': array(1.27114385), 'sigma_obs': 1.0994738733225846, 'cov_mat': Array([[14.31405036]], dtype=float64)}\n",
      "cov_mat: [[14.31405036]]\n",
      "theta: {'a1': 0.020050775212544843, 'a2': array(1.27081292), 'sigma_obs': 1.0993148822697756, 'cov_mat': Array([[28.71613102]], dtype=float64)}\n",
      "cov_mat: [[28.71613102]]\n",
      "theta: {'a1': 0.018883272536496343, 'a2': array(1.27067844), 'sigma_obs': 1.0991802761483627, 'cov_mat': Array([[37.6721912]], dtype=float64)}\n",
      "cov_mat: [[37.6721912]]\n",
      "theta: {'a1': 0.013416645106418502, 'a2': array(1.26973147), 'sigma_obs': 1.0986143234126122, 'cov_mat': Array([[71.008598]], dtype=float64)}\n",
      "cov_mat: [[71.008598]]\n",
      "theta: {'a1': 0.011703303479348247, 'a2': array(1.26849107), 'sigma_obs': 1.0977234454352403, 'cov_mat': Array([[131.69415917]], dtype=float64)}\n",
      "cov_mat: [[131.69415917]]\n",
      "theta: {'a1': 0.004286925433835485, 'a2': array(1.2684342), 'sigma_obs': 1.0976957384558965, 'cov_mat': Array([[334.93276159]], dtype=float64)}\n",
      "cov_mat: [[334.93276159]]\n",
      "theta: {'a1': 0.007773604177672269, 'a2': array(1.26846441), 'sigma_obs': 1.0977104611403063, 'cov_mat': Array([[215.33681329]], dtype=float64)}\n",
      "cov_mat: [[215.33681329]]\n",
      "theta: {'a1': 0.0032597791990634914, 'a2': array(1.26998791), 'sigma_obs': 1.0987421258546255, 'cov_mat': Array([[483.22877798]], dtype=float64)}\n",
      "cov_mat: [[483.22877798]]\n",
      "theta: {'a1': 0.0055285523821971974, 'a2': array(1.26914169), 'sigma_obs': 1.098169029662041, 'cov_mat': Array([[321.24075396]], dtype=float64)}\n",
      "cov_mat: [[321.24075396]]\n",
      "theta: {'a1': 0.0045129776462141296, 'a2': array(1.27175083), 'sigma_obs': 1.0997776397765293, 'cov_mat': Array([[479.21717063]], dtype=float64)}\n",
      "cov_mat: [[479.21717063]]\n",
      "theta: {'a1': 0.004374748339082601, 'a2': array(1.27269877), 'sigma_obs': 1.1009183729188257, 'cov_mat': Array([[760.25047933]], dtype=float64)}\n",
      "cov_mat: [[760.25047933]]\n",
      "theta: {'a1': 0.0028799111071763175, 'a2': array(1.27123309), 'sigma_obs': 1.1013151605466733, 'cov_mat': Array([[1309.81001997]], dtype=float64)}\n",
      "cov_mat: [[1309.81001997]]\n",
      "theta: {'a1': 0.00335743851300857, 'a2': array(1.27336315), 'sigma_obs': 1.1014625793769974, 'cov_mat': Array([[1378.13468245]], dtype=float64)}\n",
      "cov_mat: [[1378.13468245]]\n",
      "theta: {'a1': 0.0031374990319833194, 'a2': array(1.27474208), 'sigma_obs': 1.1022732552748091, 'cov_mat': Array([[1421.69318888]], dtype=float64)}\n",
      "cov_mat: [[1421.69318888]]\n",
      "theta: {'a1': 0.003134717962619364, 'a2': array(1.27450481), 'sigma_obs': 1.10235165238622, 'cov_mat': Array([[1434.64449619]], dtype=float64)}\n",
      "cov_mat: [[1434.64449619]]\n",
      "theta: {'a1': 0.0031338099966454268, 'a2': array(1.2745212), 'sigma_obs': 1.102397994686991, 'cov_mat': Array([[1436.55674482]], dtype=float64)}\n",
      "cov_mat: [[1436.55674482]]\n",
      "theta: {'a1': 0.0031337557365547467, 'a2': array(1.27451631), 'sigma_obs': 1.102404218324285, 'cov_mat': Array([[1436.55807504]], dtype=float64)}\n",
      "cov_mat: [[1436.55807504]]\n",
      "theta: {'a1': 0.0031337627968860303, 'a2': array(1.27451618), 'sigma_obs': 1.102405684230511, 'cov_mat': Array([[1436.54049732]], dtype=float64)}\n",
      "cov_mat: [[1436.54049732]]\n"
     ]
    }
   ],
   "source": [
    "# Fit the model\n",
    "params, opt_info = fit(to_use['winner'], to_use['loser'], to_use['margin'].values, verbose=True)"
   ]
  },
  {
   "cell_type": "code",
   "execution_count": 128,
   "metadata": {},
   "outputs": [
    {
     "data": {
      "text/plain": [
       "EloParams(theta={'a1': 0.0031337627968860303, 'a2': array(1.27451618), 'sigma_obs': 1.102405684230511, 'cov_mat': Array([[1436.54049732]], dtype=float64)})"
      ]
     },
     "execution_count": 128,
     "metadata": {},
     "output_type": "execute_result"
    }
   ],
   "source": [
    "params"
   ]
  },
  {
   "cell_type": "code",
   "execution_count": 129,
   "metadata": {
    "scrolled": true
   },
   "outputs": [
    {
     "name": "stderr",
     "output_type": "stream",
     "text": [
      "  0%|                                                  | 0/6903 [00:00<?, ?it/s]\n",
      "  8%|██▉                                   | 531/6903 [00:00<00:01, 5301.30it/s]\u001b[A\n",
      " 20%|███████▎                             | 1362/6903 [00:00<00:00, 7062.17it/s]\u001b[A\n",
      " 30%|███████████                          | 2069/6903 [00:00<00:00, 6395.81it/s]\u001b[A\n",
      " 39%|██████████████▌                      | 2716/6903 [00:00<00:00, 5826.02it/s]\u001b[A\n",
      " 48%|█████████████████▋                   | 3308/6903 [00:00<00:00, 5498.50it/s]\u001b[A\n",
      " 56%|████████████████████▋                | 3864/6903 [00:00<00:00, 5280.91it/s]\u001b[A\n",
      " 64%|███████████████████████▌             | 4396/6903 [00:00<00:00, 4688.60it/s]\u001b[A\n",
      " 71%|██████████████████████████▏          | 4875/6903 [00:00<00:00, 4587.76it/s]\u001b[A\n",
      " 78%|████████████████████████████▊        | 5382/6903 [00:01<00:00, 4666.34it/s]\u001b[A\n",
      " 85%|███████████████████████████████▋     | 5901/6903 [00:01<00:00, 4806.79it/s]\u001b[A\n",
      " 93%|██████████████████████████████████▏  | 6387/6903 [00:01<00:00, 4719.95it/s]\u001b[A\n",
      " 99%|████████████████████████████████████▊| 6863/6903 [00:01<00:00, 4672.37it/s]\u001b[A\n",
      "100%|█████████████████████████████████████| 6903/6903 [00:01<00:00, 5026.95it/s]\u001b[A\n",
      "100%|█████████████████████████████████████| 6903/6903 [00:01<00:00, 5042.90it/s]\n"
     ]
    }
   ],
   "source": [
    "# We can calculate the ratings over time:\n",
    "history_df, rating_dict = calculate_ratings(params, to_use['winner'], to_use['loser'], to_use['margin'].values)"
   ]
  },
  {
   "cell_type": "code",
   "execution_count": 130,
   "metadata": {},
   "outputs": [],
   "source": [
    "import pandas as pd\n",
    "\n",
    "# Combine this with the other df\n",
    "full_df = to_use.copy()\n",
    "full_df = full_df.reset_index()\n",
    "full_df = pd.concat([full_df, history_df], axis=1)"
   ]
  },
  {
   "cell_type": "code",
   "execution_count": 131,
   "metadata": {},
   "outputs": [
    {
     "data": {
      "text/plain": [
       "0.3898860255295228"
      ]
     },
     "execution_count": 131,
     "metadata": {},
     "output_type": "execute_result"
    }
   ],
   "source": [
    "# We can predict matches using the final ratings, which are in rating_dict\n",
    "predict(rating_dict, params, 'New York Red Bulls', 'New York City FC')"
   ]
  },
  {
   "cell_type": "code",
   "execution_count": 142,
   "metadata": {},
   "outputs": [
    {
     "data": {
      "image/png": "[encoded data removed]",
      "text/plain": [
       "<Figure size 800x400 with 1 Axes>"
      ]
     },
     "metadata": {},
     "output_type": "display_data"
    }
   ],
   "source": [
    "# We can plot the ratings over time\n",
    "import matplotlib.pyplot as plt\n",
    "%matplotlib inline\n",
    "\n",
    "f, ax = plt.subplots(1, 1)\n",
    "\n",
    "start_year = 2012\n",
    "\n",
    "for cur_player in ['New York Red Bulls', 'New York City FC', 'Chicago Fire FC', 'Inter Miami CF']:\n",
    "\n",
    "    history = get_player_skill_history(history_df, rating_dict, full_df['date_corrected'].values, cur_player)\n",
    "    \n",
    "    history = history[history.index >= f'{start_year}-01-01']\n",
    "    ax.step(history.index, history.values, label=cur_player)\n",
    "    \n",
    "ax.legend()\n",
    "\n",
    "f.set_size_inches(8, 4)\n",
    "f.tight_layout()"
   ]
  },
  {
   "cell_type": "code",
   "execution_count": 134,
   "metadata": {},
   "outputs": [
    {
     "name": "stdout",
     "output_type": "stream",
     "text": [
      "37.90172156148\n"
     ]
    }
   ],
   "source": [
    "# Finally, here's the prior standard deviation:\n",
    "import numpy as np\n",
    "\n",
    "prior_sd = np.sqrt(np.squeeze(params.theta['cov_mat']))\n",
    "print(prior_sd)"
   ]
  },
  {
   "cell_type": "code",
   "execution_count": 135,
   "metadata": {},
   "outputs": [
    {
     "data": {
      "text/plain": [
       "-0.6843323503912965"
      ]
     },
     "execution_count": 135,
     "metadata": {},
     "output_type": "execute_result"
    }
   ],
   "source": [
    "# How well does this predict?\n",
    "# This gives the average log probability of the winner\n",
    "# (aka negative log loss)\n",
    "np.mean(np.log(history_df['winner_prior_prob']))"
   ]
  },
  {
   "cell_type": "code",
   "execution_count": 136,
   "metadata": {},
   "outputs": [
    {
     "data": {
      "text/plain": [
       "0.42488772997247576"
      ]
     },
     "execution_count": 136,
     "metadata": {},
     "output_type": "execute_result"
    }
   ],
   "source": [
    "# Accuracy\n",
    "np.mean(history_df['winner_prior_prob'] > 0.5)"
   ]
  },
  {
   "cell_type": "code",
   "execution_count": 150,
   "metadata": {},
   "outputs": [
    {
     "data": {
      "text/plain": [
       "0.566106929164254"
      ]
     },
     "execution_count": 150,
     "metadata": {},
     "output_type": "execute_result"
    }
   ],
   "source": [
    "# Accurary after removing NaNs\n",
    "np.mean(history_df.loc[~(history_df.winner.isna()), 'winner_prior_prob'] > 0.5)"
   ]
  },
  {
   "cell_type": "code",
   "execution_count": 137,
   "metadata": {},
   "outputs": [],
   "source": [
    "# Compare with Elo:\n",
    "from jax_elo.utils.elo import optimise_static_k, compute_elo_ratings"
   ]
  },
  {
   "cell_type": "code",
   "execution_count": 138,
   "metadata": {},
   "outputs": [],
   "source": [
    "k, _ = optimise_static_k(to_use['winner'].values, to_use['loser'].values)"
   ]
  },
  {
   "cell_type": "code",
   "execution_count": 139,
   "metadata": {},
   "outputs": [],
   "source": [
    "elo_results = pd.DataFrame(compute_elo_ratings(to_use['winner'].values, to_use['loser'].values, lambda _: k))"
   ]
  },
  {
   "cell_type": "code",
   "execution_count": 140,
   "metadata": {},
   "outputs": [
    {
     "data": {
      "text/plain": [
       "-0.687955272295096"
      ]
     },
     "execution_count": 140,
     "metadata": {},
     "output_type": "execute_result"
    }
   ],
   "source": [
    "# Standard Elo has a lower log likelihood:\n",
    "np.mean(np.log(elo_results['winner_prob']))"
   ]
  },
  {
   "cell_type": "code",
   "execution_count": 141,
   "metadata": {},
   "outputs": [
    {
     "data": {
      "text/plain": [
       "0.4170650441836882"
      ]
     },
     "execution_count": 141,
     "metadata": {},
     "output_type": "execute_result"
    }
   ],
   "source": [
    "# Accuracy\n",
    "np.mean(elo_results['winner_prob'] > 0.5)"
   ]
  },
  {
   "cell_type": "code",
   "execution_count": 157,
   "metadata": {},
   "outputs": [
    {
     "data": {
      "text/plain": [
       "0.5556842308434665"
      ]
     },
     "execution_count": 157,
     "metadata": {},
     "output_type": "execute_result"
    }
   ],
   "source": [
    "# Accuracy after removing NaNs\n",
    "np.mean(elo_results.loc[~(history_df.winner.isna()), 'winner_prob'] > 0.5)"
   ]
  },
  {
   "cell_type": "markdown",
   "metadata": {},
   "source": [
    "##### Attempt to refit margin model after dropping NaN's (that is, ties)"
   ]
  },
  {
   "cell_type": "code",
   "execution_count": 125,
   "metadata": {},
   "outputs": [],
   "source": [
    "to_use = mlsWL[['winner', 'loser', 'margin', 'date_corrected']]"
   ]
  },
  {
   "cell_type": "code",
   "execution_count": 127,
   "metadata": {
    "scrolled": true
   },
   "outputs": [
    {
     "name": "stdout",
     "output_type": "stream",
     "text": [
      "theta: {'a1': 0.1, 'a2': array(0.), 'sigma_obs': 0.1, 'cov_mat': Array([[1.000001]], dtype=float64)}\n",
      "cov_mat: [[1.000001]]\n",
      "theta: {'a1': Traced<ShapedArray(float64[])>with<JVPTrace(level=3/0)> with\n",
      "  primal = Traced<ShapedArray(float64[])>with<DynamicJaxprTrace(level=1/0)>\n",
      "  tangent = Traced<ShapedArray(float64[])>with<JaxprTrace(level=2/0)> with\n",
      "    pval = (ShapedArray(float64[]), None)\n",
      "    recipe = JaxprEqnRecipe(eqn_id=<object object at 0x7f95e389f580>, in_tracers=(Traced<ShapedArray(float64[]):JaxprTrace(level=2/0)>, Traced<ShapedArray(float64[]):JaxprTrace(level=2/0)>), out_tracer_refs=[<weakref at 0x7f95e56b85e0; to 'JaxprTracer' at 0x7f95e56b8900>], out_avals=[ShapedArray(float64[])], primitive=mul, params={}, effects=frozenset(), source_info=SourceInfo(traceback=<jaxlib.xla_extension.Traceback object at 0x7f95e4d1a5e0>, name_stack=NameStack(stack=(Transform(name='jvp'),)))), 'a2': Traced<ShapedArray(float64[])>with<JVPTrace(level=3/0)> with\n",
      "  primal = Traced<ShapedArray(float64[])>with<DynamicJaxprTrace(level=1/0)>\n",
      "  tangent = Traced<ShapedArray(float64[])>with<JaxprTrace(level=2/0)> with\n",
      "    pval = (ShapedArray(float64[]), None)\n",
      "    recipe = JaxprEqnRecipe(eqn_id=<object object at 0x7f95e4902a60>, in_tracers=(Traced<ShapedArray(float64[1]):JaxprTrace(level=2/0)>,), out_tracer_refs=[<weakref at 0x7f95e4b42540; to 'JaxprTracer' at 0x7f95e4b42400>], out_avals=[ShapedArray(float64[])], primitive=reshape, params={'new_sizes': (), 'dimensions': None}, effects=frozenset(), source_info=SourceInfo(traceback=<jaxlib.xla_extension.Traceback object at 0x7f95e21214e0>, name_stack=NameStack(stack=(Transform(name='jvp'),)))), 'sigma_obs': Traced<ShapedArray(float64[])>with<JVPTrace(level=3/0)> with\n",
      "  primal = Traced<ShapedArray(float64[])>with<DynamicJaxprTrace(level=1/0)>\n",
      "  tangent = Traced<ShapedArray(float64[])>with<JaxprTrace(level=2/0)> with\n",
      "    pval = (ShapedArray(float64[]), None)\n",
      "    recipe = JaxprEqnRecipe(eqn_id=<object object at 0x7f95e389f600>, in_tracers=(Traced<ShapedArray(float64[]):JaxprTrace(level=2/0)>, Traced<ShapedArray(float64[]):JaxprTrace(level=2/0)>), out_tracer_refs=[<weakref at 0x7f95e56b8cc0; to 'JaxprTracer' at 0x7f95e56b8a90>], out_avals=[ShapedArray(float64[])], primitive=mul, params={}, effects=frozenset(), source_info=SourceInfo(traceback=<jaxlib.xla_extension.Traceback object at 0x7f95e4d1b1c0>, name_stack=NameStack(stack=(Transform(name='jvp'),)))), 'cov_mat': Traced<ShapedArray(float64[1,1])>with<JVPTrace(level=3/0)> with\n",
      "  primal = Traced<ShapedArray(float64[1,1])>with<DynamicJaxprTrace(level=1/0)>\n",
      "  tangent = Traced<ShapedArray(float64[1,1])>with<JaxprTrace(level=2/0)> with\n",
      "    pval = (ShapedArray(float64[1,1]), None)\n",
      "    recipe = JaxprEqnRecipe(eqn_id=<object object at 0x7f95e389f4e0>, in_tracers=(Traced<ShapedArray(float64[1,1]):JaxprTrace(level=2/0)>,), out_tracer_refs=[<weakref at 0x7f95e56b8f90; to 'JaxprTracer' at 0x7f95e56b8680>], out_avals=[ShapedArray(float64[1,1])], primitive=pjit, params={'jaxpr': { \u001b[34m\u001b[22m\u001b[1mlambda \u001b[39m\u001b[22m\u001b[22m; a\u001b[35m:f64[1,1]\u001b[39m. \u001b[34m\u001b[22m\u001b[1mlet\u001b[39m\u001b[22m\u001b[22m  \u001b[34m\u001b[22m\u001b[1min \u001b[39m\u001b[22m\u001b[22m(a,) }, 'in_shardings': (UnspecifiedValue,), 'out_shardings': (UnspecifiedValue,), 'resource_env': None, 'donated_invars': (False,), 'name': 'fn', 'keep_unused': False, 'inline': True}, effects=set(), source_info=SourceInfo(traceback=<jaxlib.xla_extension.Traceback object at 0x7f95e4d19b40>, name_stack=NameStack(stack=(Transform(name='jvp'),))))}\n",
      "cov_mat: Traced<ShapedArray(float64[1,1])>with<JVPTrace(level=3/0)> with\n",
      "  primal = Traced<ShapedArray(float64[1,1])>with<DynamicJaxprTrace(level=1/0)>\n",
      "  tangent = Traced<ShapedArray(float64[1,1])>with<JaxprTrace(level=2/0)> with\n",
      "    pval = (ShapedArray(float64[1,1]), None)\n",
      "    recipe = JaxprEqnRecipe(eqn_id=<object object at 0x7f95e389f4e0>, in_tracers=(Traced<ShapedArray(float64[1,1]):JaxprTrace(level=2/0)>,), out_tracer_refs=[<weakref at 0x7f95e56b8f90; to 'JaxprTracer' at 0x7f95e56b8680>], out_avals=[ShapedArray(float64[1,1])], primitive=pjit, params={'jaxpr': { \u001b[34m\u001b[22m\u001b[1mlambda \u001b[39m\u001b[22m\u001b[22m; a\u001b[35m:f64[1,1]\u001b[39m. \u001b[34m\u001b[22m\u001b[1mlet\u001b[39m\u001b[22m\u001b[22m  \u001b[34m\u001b[22m\u001b[1min \u001b[39m\u001b[22m\u001b[22m(a,) }, 'in_shardings': (UnspecifiedValue,), 'out_shardings': (UnspecifiedValue,), 'resource_env': None, 'donated_invars': (False,), 'name': 'fn', 'keep_unused': False, 'inline': True}, effects=set(), source_info=SourceInfo(traceback=<jaxlib.xla_extension.Traceback object at 0x7f95e4d19b40>, name_stack=NameStack(stack=(Transform(name='jvp'),))))\n",
      "theta: {'a1': 1.0245152820380417, 'a2': array(0.09979203), 'sigma_obs': 1.0669701465288037, 'cov_mat': Array([[1.23217473]], dtype=float64)}\n",
      "cov_mat: [[1.23217473]]\n",
      "theta: {'a1': 10685.997388888369, 'a2': array(134.97522829), 'sigma_obs': 8214.134564001708, 'cov_mat': Array([[1816.12692467]], dtype=float64)}\n",
      "cov_mat: [[1816.12692467]]\n",
      "theta: {'a1': 820.4541399959137, 'a2': array(38.41776861), 'sigma_obs': 701.6091729808663, 'cov_mat': Array([[127.97267222]], dtype=float64)}\n",
      "cov_mat: [[127.97267222]]\n",
      "theta: {'a1': 36.73789643502643, 'a2': array(9.23923095), 'sigma_obs': 50.47180173190194, 'cov_mat': Array([[3.43337328]], dtype=float64)}\n",
      "cov_mat: [[3.43337328]]\n",
      "theta: {'a1': 0.2413565007505415, 'a2': array(2.0424064), 'sigma_obs': 5.3983642578040785, 'cov_mat': Array([[0.23063669]], dtype=float64)}\n",
      "cov_mat: [[0.23063669]]\n",
      "theta: {'a1': 0.3785286981163928, 'a2': array(0.61267077), 'sigma_obs': 1.886920538253657, 'cov_mat': Array([[0.89068391]], dtype=float64)}\n",
      "cov_mat: [[0.89068391]]\n",
      "theta: {'a1': 0.7108972574513799, 'a2': array(2.23858617), 'sigma_obs': 0.9228435813025604, 'cov_mat': Array([[0.52762289]], dtype=float64)}\n",
      "cov_mat: [[0.52762289]]\n",
      "theta: {'a1': 0.5220484614806146, 'a2': array(1.37805797), 'sigma_obs': 1.3905914846810008, 'cov_mat': Array([[0.70800221]], dtype=float64)}\n",
      "cov_mat: [[0.70800221]]\n",
      "theta: {'a1': 2.5835193640387706, 'a2': array(1.85701299), 'sigma_obs': 0.7252451536499812, 'cov_mat': Array([[9.30021933]], dtype=float64)}\n",
      "cov_mat: [[9.30021933]]\n",
      "theta: {'a1': 0.5944254353673738, 'a2': array(1.40429033), 'sigma_obs': 1.3485937155523557, 'cov_mat': Array([[0.39478085]], dtype=float64)}\n",
      "cov_mat: [[0.39478085]]\n",
      "theta: {'a1': 0.666571947778363, 'a2': array(1.42889224), 'sigma_obs': 1.30979143871214, 'cov_mat': Array([[0.18356862]], dtype=float64)}\n",
      "cov_mat: [[0.18356862]]\n",
      "theta: {'a1': 1.4686671593727676, 'a2': array(1.64295262), 'sigma_obs': 0.9960783179418242, 'cov_mat': Array([[1.71764454]], dtype=float64)}\n",
      "cov_mat: [[1.71764454]]\n",
      "theta: {'a1': 0.7600052176833366, 'a2': array(1.45885073), 'sigma_obs': 1.2633055469252683, 'cov_mat': Array([[0.03424957]], dtype=float64)}\n",
      "cov_mat: [[0.03424957]]\n",
      "theta: {'a1': 1.6909463505875897, 'a2': array(1.21661684), 'sigma_obs': 0.8970591620841236, 'cov_mat': Array([[1.32842005]], dtype=float64)}\n",
      "cov_mat: [[1.32842005]]\n",
      "theta: {'a1': 0.8371712780469373, 'a2': array(1.43444097), 'sigma_obs': 1.2235654857977172, 'cov_mat': Array([[0.00252818]], dtype=float64)}\n",
      "cov_mat: [[0.00252818]]\n",
      "theta: {'a1': 0.9172322597247253, 'a2': array(1.37433683), 'sigma_obs': 1.1380871281544782, 'cov_mat': Array([[0.00768315]], dtype=float64)}\n",
      "cov_mat: [[0.00768315]]\n",
      "theta: {'a1': 0.977802866045091, 'a2': array(1.17708177), 'sigma_obs': 1.0894595759966599, 'cov_mat': Array([[0.04549397]], dtype=float64)}\n",
      "cov_mat: [[0.04549397]]\n",
      "theta: {'a1': 0.9472447072874506, 'a2': array(1.27580958), 'sigma_obs': 1.1136653650294415, 'cov_mat': Array([[0.0226228]], dtype=float64)}\n",
      "cov_mat: [[0.0226228]]\n",
      "theta: {'a1': 0.9680643857027876, 'a2': array(1.26872555), 'sigma_obs': 1.0985460170906853, 'cov_mat': Array([[0.01852708]], dtype=float64)}\n",
      "cov_mat: [[0.01852708]]\n",
      "theta: {'a1': 0.9647067291066954, 'a2': array(1.27480771), 'sigma_obs': 1.0969844897572403, 'cov_mat': Array([[0.02139536]], dtype=float64)}\n",
      "cov_mat: [[0.02139536]]\n",
      "theta: {'a1': 0.9663251787160069, 'a2': array(1.27187468), 'sigma_obs': 1.0977373734433602, 'cov_mat': Array([[0.01998641]], dtype=float64)}\n",
      "cov_mat: [[0.01998641]]\n",
      "theta: {'a1': 0.9626455935535548, 'a2': array(1.27231466), 'sigma_obs': 1.101366795767348, 'cov_mat': Array([[0.02005312]], dtype=float64)}\n",
      "cov_mat: [[0.02005312]]\n",
      "theta: {'a1': 0.9638735701628665, 'a2': array(1.2721707), 'sigma_obs': 1.100143576586994, 'cov_mat': Array([[0.02003853]], dtype=float64)}\n",
      "cov_mat: [[0.02003853]]\n",
      "theta: {'a1': 0.9638772529236789, 'a2': array(1.27217164), 'sigma_obs': 1.1001394457278426, 'cov_mat': Array([[0.02003785]], dtype=float64)}\n",
      "cov_mat: [[0.02003785]]\n",
      "theta: {'a1': 0.963879624769139, 'a2': array(1.27217211), 'sigma_obs': 1.1001352370275053, 'cov_mat': Array([[0.02003728]], dtype=float64)}\n",
      "cov_mat: [[0.02003728]]\n",
      "theta: {'a1': 0.9638800056621092, 'a2': array(1.2721727), 'sigma_obs': 1.100130695887144, 'cov_mat': Array([[0.02003674]], dtype=float64)}\n",
      "cov_mat: [[0.02003674]]\n",
      "theta: {'a1': 0.9638772179208747, 'a2': array(1.27217341), 'sigma_obs': 1.1001250863352374, 'cov_mat': Array([[0.02003621]], dtype=float64)}\n",
      "cov_mat: [[0.02003621]]\n",
      "theta: {'a1': 0.9638682385945945, 'a2': array(1.27217438), 'sigma_obs': 1.100117488545617, 'cov_mat': Array([[0.02003572]], dtype=float64)}\n",
      "cov_mat: [[0.02003572]]\n",
      "theta: {'a1': 0.9638465798435322, 'a2': array(1.27217576), 'sigma_obs': 1.1001065797310519, 'cov_mat': Array([[0.02003538]], dtype=float64)}\n",
      "cov_mat: [[0.02003538]]\n",
      "theta: {'a1': 0.963798901867308, 'a2': array(1.27217782), 'sigma_obs': 1.1000903931498407, 'cov_mat': Array([[0.02003551]], dtype=float64)}\n",
      "cov_mat: [[0.02003551]]\n",
      "theta: {'a1': 0.9636984965475749, 'a2': array(1.2721809), 'sigma_obs': 1.1000661151214925, 'cov_mat': Array([[0.02003692]], dtype=float64)}\n",
      "cov_mat: [[0.02003692]]\n",
      "theta: {'a1': 0.9634940930923027, 'a2': array(1.27218546), 'sigma_obs': 1.100030240856913, 'cov_mat': Array([[0.02004133]], dtype=float64)}\n",
      "cov_mat: [[0.02004133]]\n",
      "theta: {'a1': 0.9630955231654758, 'a2': array(1.27219186), 'sigma_obs': 1.099979814052964, 'cov_mat': Array([[0.02005218]], dtype=float64)}\n",
      "cov_mat: [[0.02005218]]\n",
      "theta: {'a1': 0.9623646025992753, 'a2': array(1.27220013), 'sigma_obs': 1.0999146424010413, 'cov_mat': Array([[0.0200752]], dtype=float64)}\n",
      "cov_mat: [[0.0200752]]\n",
      "theta: {'a1': 0.961096624256038, 'a2': array(1.27221007), 'sigma_obs': 1.099836165251543, 'cov_mat': Array([[0.02011918]], dtype=float64)}\n",
      "cov_mat: [[0.02011918]]\n",
      "theta: {'a1': 0.9589292585215403, 'a2': array(1.27222196), 'sigma_obs': 1.0997420552924944, 'cov_mat': Array([[0.02019919]], dtype=float64)}\n",
      "cov_mat: [[0.02019919]]\n",
      "theta: {'a1': 0.9551664030836624, 'a2': array(1.2722368), 'sigma_obs': 1.0996242310814632, 'cov_mat': Array([[0.02034424]], dtype=float64)}\n",
      "cov_mat: [[0.02034424]]\n",
      "theta: {'a1': 0.9484979283640551, 'a2': array(1.27225622), 'sigma_obs': 1.0994691004238293, 'cov_mat': Array([[0.02061048]], dtype=float64)}\n",
      "cov_mat: [[0.02061048]]\n",
      "theta: {'a1': 0.9365286247317302, 'a2': array(1.27228245), 'sigma_obs': 1.0992570061318916, 'cov_mat': Array([[0.02110623]], dtype=float64)}\n",
      "cov_mat: [[0.02110623]]\n",
      "theta: {'a1': 0.9151068214167025, 'a2': array(1.27231784), 'sigma_obs': 1.0989632383980203, 'cov_mat': Array([[0.02203867]], dtype=float64)}\n",
      "cov_mat: [[0.02203867]]\n",
      "theta: {'a1': 0.8784559706917329, 'a2': array(1.27236136), 'sigma_obs': 1.0985786559667674, 'cov_mat': Array([[0.02376603]], dtype=float64)}\n",
      "cov_mat: [[0.02376603]]\n",
      "theta: {'a1': 0.8346573088533413, 'a2': array(1.27238675), 'sigma_obs': 1.0982947786766575, 'cov_mat': Array([[0.02612294]], dtype=float64)}\n",
      "cov_mat: [[0.02612294]]\n",
      "theta: {'a1': 0.7978866108563848, 'a2': array(1.27237667), 'sigma_obs': 1.0983022597067125, 'cov_mat': Array([[0.02847543]], dtype=float64)}\n",
      "cov_mat: [[0.02847543]]\n",
      "theta: {'a1': 0.7593677887406667, 'a2': array(1.27233128), 'sigma_obs': 1.0986117398821629, 'cov_mat': Array([[0.03140624]], dtype=float64)}\n",
      "cov_mat: [[0.03140624]]\n",
      "theta: {'a1': 0.7088303233878326, 'a2': array(1.27222649), 'sigma_obs': 1.0993779407069633, 'cov_mat': Array([[0.03610439]], dtype=float64)}\n",
      "cov_mat: [[0.03610439]]\n",
      "theta: {'a1': 0.6182474272321198, 'a2': array(1.27203579), 'sigma_obs': 1.100689096358456, 'cov_mat': Array([[0.04669589]], dtype=float64)}\n",
      "cov_mat: [[0.04669589]]\n",
      "theta: {'a1': 0.5837974763474607, 'a2': array(1.27175409), 'sigma_obs': 1.1024611681492307, 'cov_mat': Array([[0.05553846]], dtype=float64)}\n",
      "cov_mat: [[0.05553846]]\n",
      "theta: {'a1': 0.5378416933080782, 'a2': array(1.27168193), 'sigma_obs': 1.102867298970501, 'cov_mat': Array([[0.06361182]], dtype=float64)}\n",
      "cov_mat: [[0.06361182]]\n",
      "theta: {'a1': 0.4439412726101337, 'a2': array(1.27157747), 'sigma_obs': 1.103296355755036, 'cov_mat': Array([[0.08469734]], dtype=float64)}\n",
      "cov_mat: [[0.08469734]]\n",
      "theta: {'a1': 0.49755498901371126, 'a2': array(1.27163833), 'sigma_obs': 1.1030463689006953, 'cov_mat': Array([[0.07204616]], dtype=float64)}\n",
      "cov_mat: [[0.07204616]]\n",
      "theta: {'a1': 0.48248667670360107, 'a2': array(1.27187553), 'sigma_obs': 1.101557225439336, 'cov_mat': Array([[0.07608827]], dtype=float64)}\n",
      "cov_mat: [[0.07608827]]\n",
      "theta: {'a1': 0.4801794662797559, 'a2': array(1.27221436), 'sigma_obs': 1.0996964430736802, 'cov_mat': Array([[0.07827553]], dtype=float64)}\n",
      "cov_mat: [[0.07827553]]\n",
      "theta: {'a1': 0.44643227387476736, 'a2': array(1.27233322), 'sigma_obs': 1.0990930763035105, 'cov_mat': Array([[0.08918093]], dtype=float64)}\n",
      "cov_mat: [[0.08918093]]\n",
      "theta: {'a1': 0.423076225794131, 'a2': array(1.27238415), 'sigma_obs': 1.0987492325363393, 'cov_mat': Array([[0.09972282]], dtype=float64)}\n",
      "cov_mat: [[0.09972282]]\n",
      "theta: {'a1': 0.3943841677946821, 'a2': array(1.27233824), 'sigma_obs': 1.0989081920324155, 'cov_mat': Array([[0.1158397]], dtype=float64)}\n",
      "cov_mat: [[0.1158397]]\n",
      "theta: {'a1': 0.33555574664924476, 'a2': array(1.27218897), 'sigma_obs': 1.0996247596160138, 'cov_mat': Array([[0.15520119]], dtype=float64)}\n",
      "cov_mat: [[0.15520119]]\n",
      "theta: {'a1': 0.30173634947830436, 'a2': array(1.27201221), 'sigma_obs': 1.1004092614551213, 'cov_mat': Array([[0.19681277]], dtype=float64)}\n",
      "cov_mat: [[0.19681277]]\n",
      "theta: {'a1': 0.22569067173699373, 'a2': array(1.27195208), 'sigma_obs': 1.1006094123799737, 'cov_mat': Array([[0.30881609]], dtype=float64)}\n",
      "cov_mat: [[0.30881609]]\n",
      "theta: {'a1': 0.2656592739325778, 'a2': array(1.27198476), 'sigma_obs': 1.1005006147506702, 'cov_mat': Array([[0.24481837]], dtype=float64)}\n",
      "cov_mat: [[0.24481837]]\n",
      "theta: {'a1': 0.24323116948779114, 'a2': array(1.27199247), 'sigma_obs': 1.1003993950665127, 'cov_mat': Array([[0.29424175]], dtype=float64)}\n",
      "cov_mat: [[0.29424175]]\n",
      "theta: {'a1': 0.22053770933680641, 'a2': array(1.27201473), 'sigma_obs': 1.1001055329068914, 'cov_mat': Array([[0.3723819]], dtype=float64)}\n",
      "cov_mat: [[0.3723819]]\n",
      "theta: {'a1': 0.15017274398180816, 'a2': array(1.27202081), 'sigma_obs': 1.0998101898099455, 'cov_mat': Array([[0.63912642]], dtype=float64)}\n",
      "cov_mat: [[0.63912642]]\n",
      "theta: {'a1': 0.19432616123976654, 'a2': array(1.27201686), 'sigma_obs': 1.100001951749535, 'cov_mat': Array([[0.45777583]], dtype=float64)}\n",
      "cov_mat: [[0.45777583]]\n",
      "theta: {'a1': 0.16932152028739014, 'a2': array(1.27201429), 'sigma_obs': 1.0999286272830335, 'cov_mat': Array([[0.58669854]], dtype=float64)}\n",
      "cov_mat: [[0.58669854]]\n",
      "theta: {'a1': 0.1529940713440739, 'a2': array(1.27200808), 'sigma_obs': 1.0998860815452427, 'cov_mat': Array([[0.73331483]], dtype=float64)}\n",
      "cov_mat: [[0.73331483]]\n",
      "theta: {'a1': 0.12956240768088254, 'a2': array(1.27190158), 'sigma_obs': 1.0998899561754913, 'cov_mat': Array([[1.04417637]], dtype=float64)}\n",
      "cov_mat: [[1.04417637]]\n",
      "theta: {'a1': 0.08901609879228906, 'a2': array(1.27182764), 'sigma_obs': 1.0999238127257842, 'cov_mat': Array([[1.87715117]], dtype=float64)}\n",
      "cov_mat: [[1.87715117]]\n",
      "theta: {'a1': 0.10824435163959144, 'a2': array(1.27186444), 'sigma_obs': 1.0999069649852804, 'cov_mat': Array([[1.43232928]], dtype=float64)}\n",
      "cov_mat: [[1.43232928]]\n",
      "theta: {'a1': 0.09228843131071258, 'a2': array(1.27180708), 'sigma_obs': 1.099919744825438, 'cov_mat': Array([[2.00786196]], dtype=float64)}\n",
      "cov_mat: [[2.00786196]]\n",
      "theta: {'a1': 0.06774808250134165, 'a2': array(1.27165916), 'sigma_obs': 1.0998681705983286, 'cov_mat': Array([[3.45221307]], dtype=float64)}\n",
      "cov_mat: [[3.45221307]]\n",
      "theta: {'a1': 0.05565529621622129, 'a2': array(1.27147074), 'sigma_obs': 1.0997811835388867, 'cov_mat': Array([[5.48001897]], dtype=float64)}\n",
      "cov_mat: [[5.48001897]]\n",
      "theta: {'a1': 0.02486609822186423, 'a2': array(1.27124184), 'sigma_obs': 1.0996197443790956, 'cov_mat': Array([[13.21694142]], dtype=float64)}\n",
      "cov_mat: [[13.21694142]]\n",
      "theta: {'a1': 0.045278605627676896, 'a2': array(1.27140307), 'sigma_obs': 1.0997334545508148, 'cov_mat': Array([[7.41837227]], dtype=float64)}\n",
      "cov_mat: [[7.41837227]]\n",
      "theta: {'a1': 0.03914124802259359, 'a2': array(1.27131999), 'sigma_obs': 1.0996429645496917, 'cov_mat': Array([[9.89425461]], dtype=float64)}\n",
      "cov_mat: [[9.89425461]]\n",
      "theta: {'a1': 0.03356677538555801, 'a2': array(1.27114385), 'sigma_obs': 1.0994738733225846, 'cov_mat': Array([[14.31405036]], dtype=float64)}\n",
      "cov_mat: [[14.31405036]]\n",
      "theta: {'a1': 0.020050775212544843, 'a2': array(1.27081292), 'sigma_obs': 1.0993148822697756, 'cov_mat': Array([[28.71613102]], dtype=float64)}\n",
      "cov_mat: [[28.71613102]]\n",
      "theta: {'a1': 0.018883272536496343, 'a2': array(1.27067844), 'sigma_obs': 1.0991802761483627, 'cov_mat': Array([[37.6721912]], dtype=float64)}\n",
      "cov_mat: [[37.6721912]]\n",
      "theta: {'a1': 0.013416645106418502, 'a2': array(1.26973147), 'sigma_obs': 1.0986143234126122, 'cov_mat': Array([[71.008598]], dtype=float64)}\n",
      "cov_mat: [[71.008598]]\n",
      "theta: {'a1': 0.011703303479348247, 'a2': array(1.26849107), 'sigma_obs': 1.0977234454352403, 'cov_mat': Array([[131.69415917]], dtype=float64)}\n",
      "cov_mat: [[131.69415917]]\n",
      "theta: {'a1': 0.004286925433835485, 'a2': array(1.2684342), 'sigma_obs': 1.0976957384558965, 'cov_mat': Array([[334.93276159]], dtype=float64)}\n",
      "cov_mat: [[334.93276159]]\n",
      "theta: {'a1': 0.007773604177672269, 'a2': array(1.26846441), 'sigma_obs': 1.0977104611403063, 'cov_mat': Array([[215.33681329]], dtype=float64)}\n",
      "cov_mat: [[215.33681329]]\n",
      "theta: {'a1': 0.0032597791990634914, 'a2': array(1.26998791), 'sigma_obs': 1.0987421258546255, 'cov_mat': Array([[483.22877798]], dtype=float64)}\n",
      "cov_mat: [[483.22877798]]\n",
      "theta: {'a1': 0.0055285523821971974, 'a2': array(1.26914169), 'sigma_obs': 1.098169029662041, 'cov_mat': Array([[321.24075396]], dtype=float64)}\n",
      "cov_mat: [[321.24075396]]\n",
      "theta: {'a1': 0.0045129776462141296, 'a2': array(1.27175083), 'sigma_obs': 1.0997776397765293, 'cov_mat': Array([[479.21717063]], dtype=float64)}\n",
      "cov_mat: [[479.21717063]]\n",
      "theta: {'a1': 0.004374748339082601, 'a2': array(1.27269877), 'sigma_obs': 1.1009183729188257, 'cov_mat': Array([[760.25047933]], dtype=float64)}\n",
      "cov_mat: [[760.25047933]]\n",
      "theta: {'a1': 0.0028799111071763175, 'a2': array(1.27123309), 'sigma_obs': 1.1013151605466733, 'cov_mat': Array([[1309.81001997]], dtype=float64)}\n",
      "cov_mat: [[1309.81001997]]\n",
      "theta: {'a1': 0.00335743851300857, 'a2': array(1.27336315), 'sigma_obs': 1.1014625793769974, 'cov_mat': Array([[1378.13468245]], dtype=float64)}\n",
      "cov_mat: [[1378.13468245]]\n",
      "theta: {'a1': 0.0031374990319833194, 'a2': array(1.27474208), 'sigma_obs': 1.1022732552748091, 'cov_mat': Array([[1421.69318888]], dtype=float64)}\n",
      "cov_mat: [[1421.69318888]]\n",
      "theta: {'a1': 0.003134717962619364, 'a2': array(1.27450481), 'sigma_obs': 1.10235165238622, 'cov_mat': Array([[1434.64449619]], dtype=float64)}\n",
      "cov_mat: [[1434.64449619]]\n",
      "theta: {'a1': 0.0031338099966454268, 'a2': array(1.2745212), 'sigma_obs': 1.102397994686991, 'cov_mat': Array([[1436.55674482]], dtype=float64)}\n",
      "cov_mat: [[1436.55674482]]\n",
      "theta: {'a1': 0.0031337557365547467, 'a2': array(1.27451631), 'sigma_obs': 1.102404218324285, 'cov_mat': Array([[1436.55807504]], dtype=float64)}\n",
      "cov_mat: [[1436.55807504]]\n",
      "theta: {'a1': 0.0031337627968860303, 'a2': array(1.27451618), 'sigma_obs': 1.102405684230511, 'cov_mat': Array([[1436.54049732]], dtype=float64)}\n",
      "cov_mat: [[1436.54049732]]\n"
     ]
    }
   ],
   "source": [
    "# Fit the model\n",
    "params, opt_info = fit(to_use['winner'], to_use['loser'], to_use['margin'].values, verbose=True)"
   ]
  },
  {
   "cell_type": "code",
   "execution_count": 128,
   "metadata": {},
   "outputs": [
    {
     "data": {
      "text/plain": [
       "EloParams(theta={'a1': 0.0031337627968860303, 'a2': array(1.27451618), 'sigma_obs': 1.102405684230511, 'cov_mat': Array([[1436.54049732]], dtype=float64)})"
      ]
     },
     "execution_count": 128,
     "metadata": {},
     "output_type": "execute_result"
    }
   ],
   "source": [
    "params"
   ]
  },
  {
   "cell_type": "code",
   "execution_count": 129,
   "metadata": {
    "scrolled": true
   },
   "outputs": [
    {
     "name": "stderr",
     "output_type": "stream",
     "text": [
      "  0%|                                                  | 0/6903 [00:00<?, ?it/s]\n",
      "  8%|██▉                                   | 531/6903 [00:00<00:01, 5301.30it/s]\u001b[A\n",
      " 20%|███████▎                             | 1362/6903 [00:00<00:00, 7062.17it/s]\u001b[A\n",
      " 30%|███████████                          | 2069/6903 [00:00<00:00, 6395.81it/s]\u001b[A\n",
      " 39%|██████████████▌                      | 2716/6903 [00:00<00:00, 5826.02it/s]\u001b[A\n",
      " 48%|█████████████████▋                   | 3308/6903 [00:00<00:00, 5498.50it/s]\u001b[A\n",
      " 56%|████████████████████▋                | 3864/6903 [00:00<00:00, 5280.91it/s]\u001b[A\n",
      " 64%|███████████████████████▌             | 4396/6903 [00:00<00:00, 4688.60it/s]\u001b[A\n",
      " 71%|██████████████████████████▏          | 4875/6903 [00:00<00:00, 4587.76it/s]\u001b[A\n",
      " 78%|████████████████████████████▊        | 5382/6903 [00:01<00:00, 4666.34it/s]\u001b[A\n",
      " 85%|███████████████████████████████▋     | 5901/6903 [00:01<00:00, 4806.79it/s]\u001b[A\n",
      " 93%|██████████████████████████████████▏  | 6387/6903 [00:01<00:00, 4719.95it/s]\u001b[A\n",
      " 99%|████████████████████████████████████▊| 6863/6903 [00:01<00:00, 4672.37it/s]\u001b[A\n",
      "100%|█████████████████████████████████████| 6903/6903 [00:01<00:00, 5026.95it/s]\u001b[A\n",
      "100%|█████████████████████████████████████| 6903/6903 [00:01<00:00, 5042.90it/s]\n"
     ]
    }
   ],
   "source": [
    "# We can calculate the ratings over time:\n",
    "history_df, rating_dict = calculate_ratings(params, to_use['winner'], to_use['loser'], to_use['margin'].values)"
   ]
  },
  {
   "cell_type": "code",
   "execution_count": 130,
   "metadata": {},
   "outputs": [],
   "source": [
    "import pandas as pd\n",
    "\n",
    "# Combine this with the other df\n",
    "full_df = to_use.copy()\n",
    "full_df = full_df.reset_index()\n",
    "full_df = pd.concat([full_df, history_df], axis=1)"
   ]
  },
  {
   "cell_type": "code",
   "execution_count": 131,
   "metadata": {},
   "outputs": [
    {
     "data": {
      "text/plain": [
       "0.3898860255295228"
      ]
     },
     "execution_count": 131,
     "metadata": {},
     "output_type": "execute_result"
    }
   ],
   "source": [
    "# We can predict matches using the final ratings, which are in rating_dict\n",
    "predict(rating_dict, params, 'New York Red Bulls', 'New York City FC')"
   ]
  },
  {
   "cell_type": "code",
   "execution_count": 142,
   "metadata": {},
   "outputs": [
    {
     "data": {
      "image/png": "[encoded data removed]",
      "text/plain": [
       "<Figure size 800x400 with 1 Axes>"
      ]
     },
     "metadata": {},
     "output_type": "display_data"
    }
   ],
   "source": [
    "# We can plot the ratings over time\n",
    "import matplotlib.pyplot as plt\n",
    "%matplotlib inline\n",
    "\n",
    "f, ax = plt.subplots(1, 1)\n",
    "\n",
    "start_year = 2012\n",
    "\n",
    "for cur_player in ['New York Red Bulls', 'New York City FC', 'Chicago Fire FC', 'Inter Miami CF']:\n",
    "\n",
    "    history = get_player_skill_history(history_df, rating_dict, full_df['date_corrected'].values, cur_player)\n",
    "    \n",
    "    history = history[history.index >= f'{start_year}-01-01']\n",
    "    ax.step(history.index, history.values, label=cur_player)\n",
    "    \n",
    "ax.legend()\n",
    "\n",
    "f.set_size_inches(8, 4)\n",
    "f.tight_layout()"
   ]
  },
  {
   "cell_type": "code",
   "execution_count": 134,
   "metadata": {},
   "outputs": [
    {
     "name": "stdout",
     "output_type": "stream",
     "text": [
      "37.90172156148\n"
     ]
    }
   ],
   "source": [
    "# Finally, here's the prior standard deviation:\n",
    "import numpy as np\n",
    "\n",
    "prior_sd = np.sqrt(np.squeeze(params.theta['cov_mat']))\n",
    "print(prior_sd)"
   ]
  },
  {
   "cell_type": "code",
   "execution_count": 135,
   "metadata": {},
   "outputs": [
    {
     "data": {
      "text/plain": [
       "-0.6843323503912965"
      ]
     },
     "execution_count": 135,
     "metadata": {},
     "output_type": "execute_result"
    }
   ],
   "source": [
    "# How well does this predict?\n",
    "# This gives the average log probability of the winner\n",
    "# (aka negative log loss)\n",
    "np.mean(np.log(history_df['winner_prior_prob']))"
   ]
  },
  {
   "cell_type": "code",
   "execution_count": 136,
   "metadata": {},
   "outputs": [
    {
     "data": {
      "text/plain": [
       "0.42488772997247576"
      ]
     },
     "execution_count": 136,
     "metadata": {},
     "output_type": "execute_result"
    }
   ],
   "source": [
    "# Accuracy\n",
    "np.mean(history_df['winner_prior_prob'] > 0.5)"
   ]
  },
  {
   "cell_type": "code",
   "execution_count": 150,
   "metadata": {},
   "outputs": [
    {
     "data": {
      "text/plain": [
       "0.566106929164254"
      ]
     },
     "execution_count": 150,
     "metadata": {},
     "output_type": "execute_result"
    }
   ],
   "source": [
    "# Accurary after removing NaNs\n",
    "np.mean(history_df.loc[~(history_df.winner.isna()), 'winner_prior_prob'] > 0.5)"
   ]
  },
  {
   "cell_type": "code",
   "execution_count": 137,
   "metadata": {},
   "outputs": [],
   "source": [
    "# Compare with Elo:\n",
    "from jax_elo.utils.elo import optimise_static_k, compute_elo_ratings"
   ]
  },
  {
   "cell_type": "code",
   "execution_count": 138,
   "metadata": {},
   "outputs": [],
   "source": [
    "k, _ = optimise_static_k(to_use['winner'].values, to_use['loser'].values)"
   ]
  },
  {
   "cell_type": "code",
   "execution_count": 139,
   "metadata": {},
   "outputs": [],
   "source": [
    "elo_results = pd.DataFrame(compute_elo_ratings(to_use['winner'].values, to_use['loser'].values, lambda _: k))"
   ]
  },
  {
   "cell_type": "code",
   "execution_count": 140,
   "metadata": {},
   "outputs": [
    {
     "data": {
      "text/plain": [
       "-0.687955272295096"
      ]
     },
     "execution_count": 140,
     "metadata": {},
     "output_type": "execute_result"
    }
   ],
   "source": [
    "# Standard Elo has a lower log likelihood:\n",
    "np.mean(np.log(elo_results['winner_prob']))"
   ]
  },
  {
   "cell_type": "code",
   "execution_count": 141,
   "metadata": {},
   "outputs": [
    {
     "data": {
      "text/plain": [
       "0.4170650441836882"
      ]
     },
     "execution_count": 141,
     "metadata": {},
     "output_type": "execute_result"
    }
   ],
   "source": [
    "# Accuracy\n",
    "np.mean(elo_results['winner_prob'] > 0.5)"
   ]
  },
  {
   "cell_type": "code",
   "execution_count": 157,
   "metadata": {},
   "outputs": [
    {
     "data": {
      "text/plain": [
       "0.5556842308434665"
      ]
     },
     "execution_count": 157,
     "metadata": {},
     "output_type": "execute_result"
    }
   ],
   "source": [
    "# Accuracy after removing NaNs\n",
    "np.mean(elo_results.loc[~(history_df.winner.isna()), 'winner_prob'] > 0.5)"
   ]
  }
 ],
 "metadata": {
  "kernelspec": {
   "display_name": "Python 3 (ipykernel)",
   "language": "python",
   "name": "python3"
  },
  "language_info": {
   "codemirror_mode": {
    "name": "ipython",
    "version": 3
   },
   "file_extension": ".py",
   "mimetype": "text/x-python",
   "name": "python",
   "nbconvert_exporter": "python",
   "pygments_lexer": "ipython3",
   "version": "3.9.1"
  }
 },
 "nbformat": 4,
 "nbformat_minor": 2
}
