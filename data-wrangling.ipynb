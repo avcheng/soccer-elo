{
 "cells": [
  {
   "cell_type": "markdown",
   "metadata": {},
   "source": [
    "TODO: \n",
    "- Need to take into account ties.\n",
    "    - Right now, ties are ignored: does this make sense? From a ratings stand point, makes sense that teams' ratings would not increase or decrease; however, certainty of ratings should decrease after these matches.\n",
    "        - Answer about variances: \"variances are kept at $\\sigma^2$\"; thus, feels appropriate to ignore ties in this sense. "
   ]
  },
  {
   "cell_type": "code",
   "execution_count": 164,
   "metadata": {},
   "outputs": [],
   "source": [
    "import pandas as pd\n",
    "import numpy as np\n",
    "import matplotlib.pyplot as plt\n",
    "%matplotlib inline"
   ]
  },
  {
   "cell_type": "code",
   "execution_count": 170,
   "metadata": {},
   "outputs": [],
   "source": [
    "from jax_elo.models.margin_model import fit, calculate_ratings, predict, get_player_skill_history\n",
    "from jax_elo.utils.data import get_data\n",
    "from jax_elo.utils.elo import optimise_static_k, compute_elo_ratings"
   ]
  },
  {
   "cell_type": "code",
   "execution_count": 4,
   "metadata": {},
   "outputs": [],
   "source": [
    "mls_big = pd.read_csv('data/mls2001-2021.csv', low_memory=False)"
   ]
  },
  {
   "cell_type": "code",
   "execution_count": 81,
   "metadata": {},
   "outputs": [],
   "source": [
    "mls_to_22 = mls_big[['home', 'away', 'date', 'year', 'venue', 'league', 'game_status', 'shootout', 'home_score', 'away_score', \n",
    "                    'part_of_competition']]"
   ]
  },
  {
   "cell_type": "code",
   "execution_count": 83,
   "metadata": {},
   "outputs": [],
   "source": [
    "mlsRegularSeason = mls_to_22.loc[mls_to_22.part_of_competition.str.contains('Regular Season')].drop(columns='part_of_competition')\n",
    "mlsRegularSeason.loc[mlsRegularSeason.shootout.isna(), 'shootout'] = False"
   ]
  },
  {
   "cell_type": "code",
   "execution_count": 123,
   "metadata": {},
   "outputs": [],
   "source": [
    "mlsRegularSeason.loc[mlsRegularSeason['year'] < 2001, 'date_corrected'] = \\\n",
    "        pd.to_datetime(mlsRegularSeason.loc[mlsRegularSeason['year'] < 2001, 'date'], format=\"%m/%d/%Y\")\n",
    "mlsRegularSeason.loc[mlsRegularSeason['year'] >= 2001, 'date_corrected'] = \\\n",
    "        mlsRegularSeason.loc[mlsRegularSeason['year'] >= 2001, 'date'].str.cat(\n",
    "            mlsRegularSeason.loc[mlsRegularSeason['year'] >= 2001, 'year'].apply(str), sep=\", \"\n",
    "        )\n",
    "mlsRegularSeason.loc[mlsRegularSeason['year'] >= 2001, 'date_corrected'] = \\\n",
    "        pd.to_datetime(mlsRegularSeason.loc[mlsRegularSeason['year'] >= 2001, 'date_corrected'], format=\"%A, %B %d, %Y\")"
   ]
  },
  {
   "cell_type": "code",
   "execution_count": 124,
   "metadata": {},
   "outputs": [],
   "source": [
    "mlsWL = mlsRegularSeason.copy() \n",
    "mlsWL['score_difference'] = mlsWL['home_score'] - mlsWL['away_score'] \n",
    "mlsWL['margin'] = np.abs(mlsWL['score_difference'])\n",
    "mlsWL['winner'] = np.NaN\n",
    "mlsWL['loser'] = np.NaN\n",
    "\n",
    "mlsWL.loc[mlsWL['score_difference'] > 0, 'winner'] = mlsWL.loc[mlsWL['score_difference'] > 0, 'home']\n",
    "mlsWL.loc[mlsWL['score_difference'] > 0, 'loser'] = mlsWL.loc[mlsWL['score_difference'] > 0, 'away']\n",
    "\n",
    "mlsWL.loc[mlsWL['score_difference'] < 0, 'winner'] = mlsWL.loc[mlsWL['score_difference'] < 0, 'away']\n",
    "mlsWL.loc[mlsWL['score_difference'] < 0, 'loser'] = mlsWL.loc[mlsWL['score_difference'] < 0, 'home']\n",
    "\n",
    "mlsWL.loc[mlsWL['winner'] == 'Chicago', 'winner'] = 'Chicago Fire FC'\n",
    "mlsWL.loc[mlsWL['winner'] == 'Colorado', 'winner'] = 'Colorado Rapids'\n",
    "mlsWL.loc[mlsWL['winner'] == 'Columbus', 'winner'] = 'Columbus Crew SC'\n",
    "mlsWL.loc[mlsWL['winner'] == 'Columbus Crew', 'winner'] = 'Columbus Crew SC'\n",
    "mlsWL.loc[mlsWL['winner'] == 'DC United', 'winner'] = 'D.C. United'\n",
    "mlsWL.loc[mlsWL['winner'] == 'Dallas', 'winner'] = 'FC Dallas'\n",
    "mlsWL.loc[mlsWL['winner'] == 'Houston Dynamo', 'winner'] = 'Houston Dynamo FC'\n",
    "mlsWL.loc[mlsWL['winner'] == 'Miami', 'winner'] = 'Inter Miami CF'\n",
    "mlsWL.loc[mlsWL['winner'] == 'KC Wiz', 'winner'] = 'KC Wizards'\n",
    "mlsWL.loc[mlsWL['winner'] == 'Montreal Impact', 'winner'] = 'CF Montréal'\n",
    "mlsWL.loc[mlsWL['winner'] == 'New England', 'winner'] = 'New England Revolution'\n",
    "mlsWL.loc[mlsWL['winner'] == 'San Jose', 'winner'] = 'San Jose Earthquakes'\n",
    "mlsWL.loc[mlsWL['winner'] == 'MetroStars', 'winner'] = 'New York Red Bulls'\n",
    "mlsWL.loc[mlsWL['winner'] == 'Tampa Bay', 'winner'] = 'Tampa Bay Mutiny'\n",
    "\n",
    "mlsWL.loc[mlsWL['loser'] == 'Chicago', 'loser'] = 'Chicago Fire FC'\n",
    "mlsWL.loc[mlsWL['loser'] == 'Colorado', 'loser'] = 'Colorado Rapids'\n",
    "mlsWL.loc[mlsWL['loser'] == 'Columbus', 'loser'] = 'Columbus Crew SC'\n",
    "mlsWL.loc[mlsWL['loser'] == 'Columbus Crew', 'loser'] = 'Columbus Crew SC'\n",
    "mlsWL.loc[mlsWL['loser'] == 'DC United', 'loser'] = 'D.C. United'\n",
    "mlsWL.loc[mlsWL['loser'] == 'Dallas', 'loser'] = 'FC Dallas'\n",
    "mlsWL.loc[mlsWL['loser'] == 'Houston Dynamo', 'loser'] = 'Houston Dynamo FC'\n",
    "mlsWL.loc[mlsWL['loser'] == 'Miami', 'loser'] = 'Inter Miami CF'\n",
    "mlsWL.loc[mlsWL['loser'] == 'KC Wiz', 'loser'] = 'KC Wizards'\n",
    "mlsWL.loc[mlsWL['loser'] == 'Montreal Impact', 'loser'] = 'CF Montréal'\n",
    "mlsWL.loc[mlsWL['loser'] == 'New England', 'loser'] = 'New England Revolution'\n",
    "mlsWL.loc[mlsWL['loser'] == 'San Jose', 'loser'] = 'San Jose Earthquakes'\n",
    "mlsWL.loc[mlsWL['loser'] == 'MetroStars', 'loser'] = 'New York Red Bulls'\n",
    "mlsWL.loc[mlsWL['loser'] == 'Tampa Bay', 'loser'] = 'Tampa Bay Mutiny'"
   ]
  },
  {
   "cell_type": "code",
   "execution_count": 125,
   "metadata": {},
   "outputs": [],
   "source": [
    "to_use = mlsWL[['winner', 'loser', 'margin', 'date_corrected']]"
   ]
  },
  {
   "cell_type": "code",
   "execution_count": 127,
   "metadata": {
    "scrolled": true
   },
   "outputs": [
    {
     "name": "stdout",
     "output_type": "stream",
     "text": [
      "theta: {'a1': 0.1, 'a2': array(0.), 'sigma_obs': 0.1, 'cov_mat': Array([[1.000001]], dtype=float64)}\n",
      "cov_mat: [[1.000001]]\n",
      "theta: {'a1': Traced<ShapedArray(float64[])>with<JVPTrace(level=3/0)> with\n",
      "  primal = Traced<ShapedArray(float64[])>with<DynamicJaxprTrace(level=1/0)>\n",
      "  tangent = Traced<ShapedArray(float64[])>with<JaxprTrace(level=2/0)> with\n",
      "    pval = (ShapedArray(float64[]), None)\n",
      "    recipe = JaxprEqnRecipe(eqn_id=<object object at 0x7f95e389f580>, in_tracers=(Traced<ShapedArray(float64[]):JaxprTrace(level=2/0)>, Traced<ShapedArray(float64[]):JaxprTrace(level=2/0)>), out_tracer_refs=[<weakref at 0x7f95e56b85e0; to 'JaxprTracer' at 0x7f95e56b8900>], out_avals=[ShapedArray(float64[])], primitive=mul, params={}, effects=frozenset(), source_info=SourceInfo(traceback=<jaxlib.xla_extension.Traceback object at 0x7f95e4d1a5e0>, name_stack=NameStack(stack=(Transform(name='jvp'),)))), 'a2': Traced<ShapedArray(float64[])>with<JVPTrace(level=3/0)> with\n",
      "  primal = Traced<ShapedArray(float64[])>with<DynamicJaxprTrace(level=1/0)>\n",
      "  tangent = Traced<ShapedArray(float64[])>with<JaxprTrace(level=2/0)> with\n",
      "    pval = (ShapedArray(float64[]), None)\n",
      "    recipe = JaxprEqnRecipe(eqn_id=<object object at 0x7f95e4902a60>, in_tracers=(Traced<ShapedArray(float64[1]):JaxprTrace(level=2/0)>,), out_tracer_refs=[<weakref at 0x7f95e4b42540; to 'JaxprTracer' at 0x7f95e4b42400>], out_avals=[ShapedArray(float64[])], primitive=reshape, params={'new_sizes': (), 'dimensions': None}, effects=frozenset(), source_info=SourceInfo(traceback=<jaxlib.xla_extension.Traceback object at 0x7f95e21214e0>, name_stack=NameStack(stack=(Transform(name='jvp'),)))), 'sigma_obs': Traced<ShapedArray(float64[])>with<JVPTrace(level=3/0)> with\n",
      "  primal = Traced<ShapedArray(float64[])>with<DynamicJaxprTrace(level=1/0)>\n",
      "  tangent = Traced<ShapedArray(float64[])>with<JaxprTrace(level=2/0)> with\n",
      "    pval = (ShapedArray(float64[]), None)\n",
      "    recipe = JaxprEqnRecipe(eqn_id=<object object at 0x7f95e389f600>, in_tracers=(Traced<ShapedArray(float64[]):JaxprTrace(level=2/0)>, Traced<ShapedArray(float64[]):JaxprTrace(level=2/0)>), out_tracer_refs=[<weakref at 0x7f95e56b8cc0; to 'JaxprTracer' at 0x7f95e56b8a90>], out_avals=[ShapedArray(float64[])], primitive=mul, params={}, effects=frozenset(), source_info=SourceInfo(traceback=<jaxlib.xla_extension.Traceback object at 0x7f95e4d1b1c0>, name_stack=NameStack(stack=(Transform(name='jvp'),)))), 'cov_mat': Traced<ShapedArray(float64[1,1])>with<JVPTrace(level=3/0)> with\n",
      "  primal = Traced<ShapedArray(float64[1,1])>with<DynamicJaxprTrace(level=1/0)>\n",
      "  tangent = Traced<ShapedArray(float64[1,1])>with<JaxprTrace(level=2/0)> with\n",
      "    pval = (ShapedArray(float64[1,1]), None)\n",
      "    recipe = JaxprEqnRecipe(eqn_id=<object object at 0x7f95e389f4e0>, in_tracers=(Traced<ShapedArray(float64[1,1]):JaxprTrace(level=2/0)>,), out_tracer_refs=[<weakref at 0x7f95e56b8f90; to 'JaxprTracer' at 0x7f95e56b8680>], out_avals=[ShapedArray(float64[1,1])], primitive=pjit, params={'jaxpr': { \u001b[34m\u001b[22m\u001b[1mlambda \u001b[39m\u001b[22m\u001b[22m; a\u001b[35m:f64[1,1]\u001b[39m. \u001b[34m\u001b[22m\u001b[1mlet\u001b[39m\u001b[22m\u001b[22m  \u001b[34m\u001b[22m\u001b[1min \u001b[39m\u001b[22m\u001b[22m(a,) }, 'in_shardings': (UnspecifiedValue,), 'out_shardings': (UnspecifiedValue,), 'resource_env': None, 'donated_invars': (False,), 'name': 'fn', 'keep_unused': False, 'inline': True}, effects=set(), source_info=SourceInfo(traceback=<jaxlib.xla_extension.Traceback object at 0x7f95e4d19b40>, name_stack=NameStack(stack=(Transform(name='jvp'),))))}\n",
      "cov_mat: Traced<ShapedArray(float64[1,1])>with<JVPTrace(level=3/0)> with\n",
      "  primal = Traced<ShapedArray(float64[1,1])>with<DynamicJaxprTrace(level=1/0)>\n",
      "  tangent = Traced<ShapedArray(float64[1,1])>with<JaxprTrace(level=2/0)> with\n",
      "    pval = (ShapedArray(float64[1,1]), None)\n",
      "    recipe = JaxprEqnRecipe(eqn_id=<object object at 0x7f95e389f4e0>, in_tracers=(Traced<ShapedArray(float64[1,1]):JaxprTrace(level=2/0)>,), out_tracer_refs=[<weakref at 0x7f95e56b8f90; to 'JaxprTracer' at 0x7f95e56b8680>], out_avals=[ShapedArray(float64[1,1])], primitive=pjit, params={'jaxpr': { \u001b[34m\u001b[22m\u001b[1mlambda \u001b[39m\u001b[22m\u001b[22m; a\u001b[35m:f64[1,1]\u001b[39m. \u001b[34m\u001b[22m\u001b[1mlet\u001b[39m\u001b[22m\u001b[22m  \u001b[34m\u001b[22m\u001b[1min \u001b[39m\u001b[22m\u001b[22m(a,) }, 'in_shardings': (UnspecifiedValue,), 'out_shardings': (UnspecifiedValue,), 'resource_env': None, 'donated_invars': (False,), 'name': 'fn', 'keep_unused': False, 'inline': True}, effects=set(), source_info=SourceInfo(traceback=<jaxlib.xla_extension.Traceback object at 0x7f95e4d19b40>, name_stack=NameStack(stack=(Transform(name='jvp'),))))\n",
      "theta: {'a1': 1.0245152820380417, 'a2': array(0.09979203), 'sigma_obs': 1.0669701465288037, 'cov_mat': Array([[1.23217473]], dtype=float64)}\n",
      "cov_mat: [[1.23217473]]\n",
      "theta: {'a1': 10685.997388888369, 'a2': array(134.97522829), 'sigma_obs': 8214.134564001708, 'cov_mat': Array([[1816.12692467]], dtype=float64)}\n",
      "cov_mat: [[1816.12692467]]\n",
      "theta: {'a1': 820.4541399959137, 'a2': array(38.41776861), 'sigma_obs': 701.6091729808663, 'cov_mat': Array([[127.97267222]], dtype=float64)}\n",
      "cov_mat: [[127.97267222]]\n",
      "theta: {'a1': 36.73789643502643, 'a2': array(9.23923095), 'sigma_obs': 50.47180173190194, 'cov_mat': Array([[3.43337328]], dtype=float64)}\n",
      "cov_mat: [[3.43337328]]\n",
      "theta: {'a1': 0.2413565007505415, 'a2': array(2.0424064), 'sigma_obs': 5.3983642578040785, 'cov_mat': Array([[0.23063669]], dtype=float64)}\n",
      "cov_mat: [[0.23063669]]\n",
      "theta: {'a1': 0.3785286981163928, 'a2': array(0.61267077), 'sigma_obs': 1.886920538253657, 'cov_mat': Array([[0.89068391]], dtype=float64)}\n",
      "cov_mat: [[0.89068391]]\n",
      "theta: {'a1': 0.7108972574513799, 'a2': array(2.23858617), 'sigma_obs': 0.9228435813025604, 'cov_mat': Array([[0.52762289]], dtype=float64)}\n",
      "cov_mat: [[0.52762289]]\n",
      "theta: {'a1': 0.5220484614806146, 'a2': array(1.37805797), 'sigma_obs': 1.3905914846810008, 'cov_mat': Array([[0.70800221]], dtype=float64)}\n",
      "cov_mat: [[0.70800221]]\n",
      "theta: {'a1': 2.5835193640387706, 'a2': array(1.85701299), 'sigma_obs': 0.7252451536499812, 'cov_mat': Array([[9.30021933]], dtype=float64)}\n",
      "cov_mat: [[9.30021933]]\n",
      "theta: {'a1': 0.5944254353673738, 'a2': array(1.40429033), 'sigma_obs': 1.3485937155523557, 'cov_mat': Array([[0.39478085]], dtype=float64)}\n",
      "cov_mat: [[0.39478085]]\n",
      "theta: {'a1': 0.666571947778363, 'a2': array(1.42889224), 'sigma_obs': 1.30979143871214, 'cov_mat': Array([[0.18356862]], dtype=float64)}\n",
      "cov_mat: [[0.18356862]]\n",
      "theta: {'a1': 1.4686671593727676, 'a2': array(1.64295262), 'sigma_obs': 0.9960783179418242, 'cov_mat': Array([[1.71764454]], dtype=float64)}\n",
      "cov_mat: [[1.71764454]]\n",
      "theta: {'a1': 0.7600052176833366, 'a2': array(1.45885073), 'sigma_obs': 1.2633055469252683, 'cov_mat': Array([[0.03424957]], dtype=float64)}\n",
      "cov_mat: [[0.03424957]]\n",
      "theta: {'a1': 1.6909463505875897, 'a2': array(1.21661684), 'sigma_obs': 0.8970591620841236, 'cov_mat': Array([[1.32842005]], dtype=float64)}\n",
      "cov_mat: [[1.32842005]]\n",
      "theta: {'a1': 0.8371712780469373, 'a2': array(1.43444097), 'sigma_obs': 1.2235654857977172, 'cov_mat': Array([[0.00252818]], dtype=float64)}\n",
      "cov_mat: [[0.00252818]]\n",
      "theta: {'a1': 0.9172322597247253, 'a2': array(1.37433683), 'sigma_obs': 1.1380871281544782, 'cov_mat': Array([[0.00768315]], dtype=float64)}\n",
      "cov_mat: [[0.00768315]]\n",
      "theta: {'a1': 0.977802866045091, 'a2': array(1.17708177), 'sigma_obs': 1.0894595759966599, 'cov_mat': Array([[0.04549397]], dtype=float64)}\n",
      "cov_mat: [[0.04549397]]\n",
      "theta: {'a1': 0.9472447072874506, 'a2': array(1.27580958), 'sigma_obs': 1.1136653650294415, 'cov_mat': Array([[0.0226228]], dtype=float64)}\n",
      "cov_mat: [[0.0226228]]\n",
      "theta: {'a1': 0.9680643857027876, 'a2': array(1.26872555), 'sigma_obs': 1.0985460170906853, 'cov_mat': Array([[0.01852708]], dtype=float64)}\n",
      "cov_mat: [[0.01852708]]\n",
      "theta: {'a1': 0.9647067291066954, 'a2': array(1.27480771), 'sigma_obs': 1.0969844897572403, 'cov_mat': Array([[0.02139536]], dtype=float64)}\n",
      "cov_mat: [[0.02139536]]\n",
      "theta: {'a1': 0.9663251787160069, 'a2': array(1.27187468), 'sigma_obs': 1.0977373734433602, 'cov_mat': Array([[0.01998641]], dtype=float64)}\n",
      "cov_mat: [[0.01998641]]\n",
      "theta: {'a1': 0.9626455935535548, 'a2': array(1.27231466), 'sigma_obs': 1.101366795767348, 'cov_mat': Array([[0.02005312]], dtype=float64)}\n",
      "cov_mat: [[0.02005312]]\n",
      "theta: {'a1': 0.9638735701628665, 'a2': array(1.2721707), 'sigma_obs': 1.100143576586994, 'cov_mat': Array([[0.02003853]], dtype=float64)}\n",
      "cov_mat: [[0.02003853]]\n",
      "theta: {'a1': 0.9638772529236789, 'a2': array(1.27217164), 'sigma_obs': 1.1001394457278426, 'cov_mat': Array([[0.02003785]], dtype=float64)}\n",
      "cov_mat: [[0.02003785]]\n",
      "theta: {'a1': 0.963879624769139, 'a2': array(1.27217211), 'sigma_obs': 1.1001352370275053, 'cov_mat': Array([[0.02003728]], dtype=float64)}\n",
      "cov_mat: [[0.02003728]]\n",
      "theta: {'a1': 0.9638800056621092, 'a2': array(1.2721727), 'sigma_obs': 1.100130695887144, 'cov_mat': Array([[0.02003674]], dtype=float64)}\n",
      "cov_mat: [[0.02003674]]\n",
      "theta: {'a1': 0.9638772179208747, 'a2': array(1.27217341), 'sigma_obs': 1.1001250863352374, 'cov_mat': Array([[0.02003621]], dtype=float64)}\n",
      "cov_mat: [[0.02003621]]\n",
      "theta: {'a1': 0.9638682385945945, 'a2': array(1.27217438), 'sigma_obs': 1.100117488545617, 'cov_mat': Array([[0.02003572]], dtype=float64)}\n",
      "cov_mat: [[0.02003572]]\n",
      "theta: {'a1': 0.9638465798435322, 'a2': array(1.27217576), 'sigma_obs': 1.1001065797310519, 'cov_mat': Array([[0.02003538]], dtype=float64)}\n",
      "cov_mat: [[0.02003538]]\n",
      "theta: {'a1': 0.963798901867308, 'a2': array(1.27217782), 'sigma_obs': 1.1000903931498407, 'cov_mat': Array([[0.02003551]], dtype=float64)}\n",
      "cov_mat: [[0.02003551]]\n",
      "theta: {'a1': 0.9636984965475749, 'a2': array(1.2721809), 'sigma_obs': 1.1000661151214925, 'cov_mat': Array([[0.02003692]], dtype=float64)}\n",
      "cov_mat: [[0.02003692]]\n",
      "theta: {'a1': 0.9634940930923027, 'a2': array(1.27218546), 'sigma_obs': 1.100030240856913, 'cov_mat': Array([[0.02004133]], dtype=float64)}\n",
      "cov_mat: [[0.02004133]]\n",
      "theta: {'a1': 0.9630955231654758, 'a2': array(1.27219186), 'sigma_obs': 1.099979814052964, 'cov_mat': Array([[0.02005218]], dtype=float64)}\n",
      "cov_mat: [[0.02005218]]\n",
      "theta: {'a1': 0.9623646025992753, 'a2': array(1.27220013), 'sigma_obs': 1.0999146424010413, 'cov_mat': Array([[0.0200752]], dtype=float64)}\n",
      "cov_mat: [[0.0200752]]\n",
      "theta: {'a1': 0.961096624256038, 'a2': array(1.27221007), 'sigma_obs': 1.099836165251543, 'cov_mat': Array([[0.02011918]], dtype=float64)}\n",
      "cov_mat: [[0.02011918]]\n",
      "theta: {'a1': 0.9589292585215403, 'a2': array(1.27222196), 'sigma_obs': 1.0997420552924944, 'cov_mat': Array([[0.02019919]], dtype=float64)}\n",
      "cov_mat: [[0.02019919]]\n",
      "theta: {'a1': 0.9551664030836624, 'a2': array(1.2722368), 'sigma_obs': 1.0996242310814632, 'cov_mat': Array([[0.02034424]], dtype=float64)}\n",
      "cov_mat: [[0.02034424]]\n",
      "theta: {'a1': 0.9484979283640551, 'a2': array(1.27225622), 'sigma_obs': 1.0994691004238293, 'cov_mat': Array([[0.02061048]], dtype=float64)}\n",
      "cov_mat: [[0.02061048]]\n",
      "theta: {'a1': 0.9365286247317302, 'a2': array(1.27228245), 'sigma_obs': 1.0992570061318916, 'cov_mat': Array([[0.02110623]], dtype=float64)}\n",
      "cov_mat: [[0.02110623]]\n",
      "theta: {'a1': 0.9151068214167025, 'a2': array(1.27231784), 'sigma_obs': 1.0989632383980203, 'cov_mat': Array([[0.02203867]], dtype=float64)}\n",
      "cov_mat: [[0.02203867]]\n",
      "theta: {'a1': 0.8784559706917329, 'a2': array(1.27236136), 'sigma_obs': 1.0985786559667674, 'cov_mat': Array([[0.02376603]], dtype=float64)}\n",
      "cov_mat: [[0.02376603]]\n",
      "theta: {'a1': 0.8346573088533413, 'a2': array(1.27238675), 'sigma_obs': 1.0982947786766575, 'cov_mat': Array([[0.02612294]], dtype=float64)}\n",
      "cov_mat: [[0.02612294]]\n",
      "theta: {'a1': 0.7978866108563848, 'a2': array(1.27237667), 'sigma_obs': 1.0983022597067125, 'cov_mat': Array([[0.02847543]], dtype=float64)}\n",
      "cov_mat: [[0.02847543]]\n",
      "theta: {'a1': 0.7593677887406667, 'a2': array(1.27233128), 'sigma_obs': 1.0986117398821629, 'cov_mat': Array([[0.03140624]], dtype=float64)}\n",
      "cov_mat: [[0.03140624]]\n",
      "theta: {'a1': 0.7088303233878326, 'a2': array(1.27222649), 'sigma_obs': 1.0993779407069633, 'cov_mat': Array([[0.03610439]], dtype=float64)}\n",
      "cov_mat: [[0.03610439]]\n",
      "theta: {'a1': 0.6182474272321198, 'a2': array(1.27203579), 'sigma_obs': 1.100689096358456, 'cov_mat': Array([[0.04669589]], dtype=float64)}\n",
      "cov_mat: [[0.04669589]]\n",
      "theta: {'a1': 0.5837974763474607, 'a2': array(1.27175409), 'sigma_obs': 1.1024611681492307, 'cov_mat': Array([[0.05553846]], dtype=float64)}\n",
      "cov_mat: [[0.05553846]]\n",
      "theta: {'a1': 0.5378416933080782, 'a2': array(1.27168193), 'sigma_obs': 1.102867298970501, 'cov_mat': Array([[0.06361182]], dtype=float64)}\n",
      "cov_mat: [[0.06361182]]\n",
      "theta: {'a1': 0.4439412726101337, 'a2': array(1.27157747), 'sigma_obs': 1.103296355755036, 'cov_mat': Array([[0.08469734]], dtype=float64)}\n",
      "cov_mat: [[0.08469734]]\n",
      "theta: {'a1': 0.49755498901371126, 'a2': array(1.27163833), 'sigma_obs': 1.1030463689006953, 'cov_mat': Array([[0.07204616]], dtype=float64)}\n",
      "cov_mat: [[0.07204616]]\n",
      "theta: {'a1': 0.48248667670360107, 'a2': array(1.27187553), 'sigma_obs': 1.101557225439336, 'cov_mat': Array([[0.07608827]], dtype=float64)}\n",
      "cov_mat: [[0.07608827]]\n",
      "theta: {'a1': 0.4801794662797559, 'a2': array(1.27221436), 'sigma_obs': 1.0996964430736802, 'cov_mat': Array([[0.07827553]], dtype=float64)}\n",
      "cov_mat: [[0.07827553]]\n",
      "theta: {'a1': 0.44643227387476736, 'a2': array(1.27233322), 'sigma_obs': 1.0990930763035105, 'cov_mat': Array([[0.08918093]], dtype=float64)}\n",
      "cov_mat: [[0.08918093]]\n",
      "theta: {'a1': 0.423076225794131, 'a2': array(1.27238415), 'sigma_obs': 1.0987492325363393, 'cov_mat': Array([[0.09972282]], dtype=float64)}\n",
      "cov_mat: [[0.09972282]]\n",
      "theta: {'a1': 0.3943841677946821, 'a2': array(1.27233824), 'sigma_obs': 1.0989081920324155, 'cov_mat': Array([[0.1158397]], dtype=float64)}\n",
      "cov_mat: [[0.1158397]]\n",
      "theta: {'a1': 0.33555574664924476, 'a2': array(1.27218897), 'sigma_obs': 1.0996247596160138, 'cov_mat': Array([[0.15520119]], dtype=float64)}\n",
      "cov_mat: [[0.15520119]]\n",
      "theta: {'a1': 0.30173634947830436, 'a2': array(1.27201221), 'sigma_obs': 1.1004092614551213, 'cov_mat': Array([[0.19681277]], dtype=float64)}\n",
      "cov_mat: [[0.19681277]]\n",
      "theta: {'a1': 0.22569067173699373, 'a2': array(1.27195208), 'sigma_obs': 1.1006094123799737, 'cov_mat': Array([[0.30881609]], dtype=float64)}\n",
      "cov_mat: [[0.30881609]]\n",
      "theta: {'a1': 0.2656592739325778, 'a2': array(1.27198476), 'sigma_obs': 1.1005006147506702, 'cov_mat': Array([[0.24481837]], dtype=float64)}\n",
      "cov_mat: [[0.24481837]]\n",
      "theta: {'a1': 0.24323116948779114, 'a2': array(1.27199247), 'sigma_obs': 1.1003993950665127, 'cov_mat': Array([[0.29424175]], dtype=float64)}\n",
      "cov_mat: [[0.29424175]]\n",
      "theta: {'a1': 0.22053770933680641, 'a2': array(1.27201473), 'sigma_obs': 1.1001055329068914, 'cov_mat': Array([[0.3723819]], dtype=float64)}\n",
      "cov_mat: [[0.3723819]]\n",
      "theta: {'a1': 0.15017274398180816, 'a2': array(1.27202081), 'sigma_obs': 1.0998101898099455, 'cov_mat': Array([[0.63912642]], dtype=float64)}\n",
      "cov_mat: [[0.63912642]]\n",
      "theta: {'a1': 0.19432616123976654, 'a2': array(1.27201686), 'sigma_obs': 1.100001951749535, 'cov_mat': Array([[0.45777583]], dtype=float64)}\n",
      "cov_mat: [[0.45777583]]\n",
      "theta: {'a1': 0.16932152028739014, 'a2': array(1.27201429), 'sigma_obs': 1.0999286272830335, 'cov_mat': Array([[0.58669854]], dtype=float64)}\n",
      "cov_mat: [[0.58669854]]\n",
      "theta: {'a1': 0.1529940713440739, 'a2': array(1.27200808), 'sigma_obs': 1.0998860815452427, 'cov_mat': Array([[0.73331483]], dtype=float64)}\n",
      "cov_mat: [[0.73331483]]\n",
      "theta: {'a1': 0.12956240768088254, 'a2': array(1.27190158), 'sigma_obs': 1.0998899561754913, 'cov_mat': Array([[1.04417637]], dtype=float64)}\n",
      "cov_mat: [[1.04417637]]\n",
      "theta: {'a1': 0.08901609879228906, 'a2': array(1.27182764), 'sigma_obs': 1.0999238127257842, 'cov_mat': Array([[1.87715117]], dtype=float64)}\n",
      "cov_mat: [[1.87715117]]\n",
      "theta: {'a1': 0.10824435163959144, 'a2': array(1.27186444), 'sigma_obs': 1.0999069649852804, 'cov_mat': Array([[1.43232928]], dtype=float64)}\n",
      "cov_mat: [[1.43232928]]\n",
      "theta: {'a1': 0.09228843131071258, 'a2': array(1.27180708), 'sigma_obs': 1.099919744825438, 'cov_mat': Array([[2.00786196]], dtype=float64)}\n",
      "cov_mat: [[2.00786196]]\n",
      "theta: {'a1': 0.06774808250134165, 'a2': array(1.27165916), 'sigma_obs': 1.0998681705983286, 'cov_mat': Array([[3.45221307]], dtype=float64)}\n",
      "cov_mat: [[3.45221307]]\n",
      "theta: {'a1': 0.05565529621622129, 'a2': array(1.27147074), 'sigma_obs': 1.0997811835388867, 'cov_mat': Array([[5.48001897]], dtype=float64)}\n",
      "cov_mat: [[5.48001897]]\n",
      "theta: {'a1': 0.02486609822186423, 'a2': array(1.27124184), 'sigma_obs': 1.0996197443790956, 'cov_mat': Array([[13.21694142]], dtype=float64)}\n",
      "cov_mat: [[13.21694142]]\n",
      "theta: {'a1': 0.045278605627676896, 'a2': array(1.27140307), 'sigma_obs': 1.0997334545508148, 'cov_mat': Array([[7.41837227]], dtype=float64)}\n",
      "cov_mat: [[7.41837227]]\n",
      "theta: {'a1': 0.03914124802259359, 'a2': array(1.27131999), 'sigma_obs': 1.0996429645496917, 'cov_mat': Array([[9.89425461]], dtype=float64)}\n",
      "cov_mat: [[9.89425461]]\n",
      "theta: {'a1': 0.03356677538555801, 'a2': array(1.27114385), 'sigma_obs': 1.0994738733225846, 'cov_mat': Array([[14.31405036]], dtype=float64)}\n",
      "cov_mat: [[14.31405036]]\n",
      "theta: {'a1': 0.020050775212544843, 'a2': array(1.27081292), 'sigma_obs': 1.0993148822697756, 'cov_mat': Array([[28.71613102]], dtype=float64)}\n",
      "cov_mat: [[28.71613102]]\n",
      "theta: {'a1': 0.018883272536496343, 'a2': array(1.27067844), 'sigma_obs': 1.0991802761483627, 'cov_mat': Array([[37.6721912]], dtype=float64)}\n",
      "cov_mat: [[37.6721912]]\n",
      "theta: {'a1': 0.013416645106418502, 'a2': array(1.26973147), 'sigma_obs': 1.0986143234126122, 'cov_mat': Array([[71.008598]], dtype=float64)}\n",
      "cov_mat: [[71.008598]]\n",
      "theta: {'a1': 0.011703303479348247, 'a2': array(1.26849107), 'sigma_obs': 1.0977234454352403, 'cov_mat': Array([[131.69415917]], dtype=float64)}\n",
      "cov_mat: [[131.69415917]]\n",
      "theta: {'a1': 0.004286925433835485, 'a2': array(1.2684342), 'sigma_obs': 1.0976957384558965, 'cov_mat': Array([[334.93276159]], dtype=float64)}\n",
      "cov_mat: [[334.93276159]]\n",
      "theta: {'a1': 0.007773604177672269, 'a2': array(1.26846441), 'sigma_obs': 1.0977104611403063, 'cov_mat': Array([[215.33681329]], dtype=float64)}\n",
      "cov_mat: [[215.33681329]]\n",
      "theta: {'a1': 0.0032597791990634914, 'a2': array(1.26998791), 'sigma_obs': 1.0987421258546255, 'cov_mat': Array([[483.22877798]], dtype=float64)}\n",
      "cov_mat: [[483.22877798]]\n",
      "theta: {'a1': 0.0055285523821971974, 'a2': array(1.26914169), 'sigma_obs': 1.098169029662041, 'cov_mat': Array([[321.24075396]], dtype=float64)}\n",
      "cov_mat: [[321.24075396]]\n",
      "theta: {'a1': 0.0045129776462141296, 'a2': array(1.27175083), 'sigma_obs': 1.0997776397765293, 'cov_mat': Array([[479.21717063]], dtype=float64)}\n",
      "cov_mat: [[479.21717063]]\n",
      "theta: {'a1': 0.004374748339082601, 'a2': array(1.27269877), 'sigma_obs': 1.1009183729188257, 'cov_mat': Array([[760.25047933]], dtype=float64)}\n",
      "cov_mat: [[760.25047933]]\n",
      "theta: {'a1': 0.0028799111071763175, 'a2': array(1.27123309), 'sigma_obs': 1.1013151605466733, 'cov_mat': Array([[1309.81001997]], dtype=float64)}\n",
      "cov_mat: [[1309.81001997]]\n",
      "theta: {'a1': 0.00335743851300857, 'a2': array(1.27336315), 'sigma_obs': 1.1014625793769974, 'cov_mat': Array([[1378.13468245]], dtype=float64)}\n",
      "cov_mat: [[1378.13468245]]\n",
      "theta: {'a1': 0.0031374990319833194, 'a2': array(1.27474208), 'sigma_obs': 1.1022732552748091, 'cov_mat': Array([[1421.69318888]], dtype=float64)}\n",
      "cov_mat: [[1421.69318888]]\n",
      "theta: {'a1': 0.003134717962619364, 'a2': array(1.27450481), 'sigma_obs': 1.10235165238622, 'cov_mat': Array([[1434.64449619]], dtype=float64)}\n",
      "cov_mat: [[1434.64449619]]\n",
      "theta: {'a1': 0.0031338099966454268, 'a2': array(1.2745212), 'sigma_obs': 1.102397994686991, 'cov_mat': Array([[1436.55674482]], dtype=float64)}\n",
      "cov_mat: [[1436.55674482]]\n",
      "theta: {'a1': 0.0031337557365547467, 'a2': array(1.27451631), 'sigma_obs': 1.102404218324285, 'cov_mat': Array([[1436.55807504]], dtype=float64)}\n",
      "cov_mat: [[1436.55807504]]\n",
      "theta: {'a1': 0.0031337627968860303, 'a2': array(1.27451618), 'sigma_obs': 1.102405684230511, 'cov_mat': Array([[1436.54049732]], dtype=float64)}\n",
      "cov_mat: [[1436.54049732]]\n"
     ]
    }
   ],
   "source": [
    "# Fit the model\n",
    "params, opt_info = fit(to_use['winner'], to_use['loser'], to_use['margin'].values, verbose=True)"
   ]
  },
  {
   "cell_type": "code",
   "execution_count": 128,
   "metadata": {},
   "outputs": [
    {
     "data": {
      "text/plain": [
       "EloParams(theta={'a1': 0.0031337627968860303, 'a2': array(1.27451618), 'sigma_obs': 1.102405684230511, 'cov_mat': Array([[1436.54049732]], dtype=float64)})"
      ]
     },
     "execution_count": 128,
     "metadata": {},
     "output_type": "execute_result"
    }
   ],
   "source": [
    "params"
   ]
  },
  {
   "cell_type": "code",
   "execution_count": 129,
   "metadata": {
    "scrolled": true
   },
   "outputs": [
    {
     "name": "stderr",
     "output_type": "stream",
     "text": [
      "  0%|                                                  | 0/6903 [00:00<?, ?it/s]\n",
      "  8%|██▉                                   | 531/6903 [00:00<00:01, 5301.30it/s]\u001b[A\n",
      " 20%|███████▎                             | 1362/6903 [00:00<00:00, 7062.17it/s]\u001b[A\n",
      " 30%|███████████                          | 2069/6903 [00:00<00:00, 6395.81it/s]\u001b[A\n",
      " 39%|██████████████▌                      | 2716/6903 [00:00<00:00, 5826.02it/s]\u001b[A\n",
      " 48%|█████████████████▋                   | 3308/6903 [00:00<00:00, 5498.50it/s]\u001b[A\n",
      " 56%|████████████████████▋                | 3864/6903 [00:00<00:00, 5280.91it/s]\u001b[A\n",
      " 64%|███████████████████████▌             | 4396/6903 [00:00<00:00, 4688.60it/s]\u001b[A\n",
      " 71%|██████████████████████████▏          | 4875/6903 [00:00<00:00, 4587.76it/s]\u001b[A\n",
      " 78%|████████████████████████████▊        | 5382/6903 [00:01<00:00, 4666.34it/s]\u001b[A\n",
      " 85%|███████████████████████████████▋     | 5901/6903 [00:01<00:00, 4806.79it/s]\u001b[A\n",
      " 93%|██████████████████████████████████▏  | 6387/6903 [00:01<00:00, 4719.95it/s]\u001b[A\n",
      " 99%|████████████████████████████████████▊| 6863/6903 [00:01<00:00, 4672.37it/s]\u001b[A\n",
      "100%|█████████████████████████████████████| 6903/6903 [00:01<00:00, 5026.95it/s]\u001b[A\n",
      "100%|█████████████████████████████████████| 6903/6903 [00:01<00:00, 5042.90it/s]\n"
     ]
    }
   ],
   "source": [
    "# We can calculate the ratings over time:\n",
    "history_df, rating_dict = calculate_ratings(params, to_use['winner'], to_use['loser'], to_use['margin'].values)"
   ]
  },
  {
   "cell_type": "code",
   "execution_count": 130,
   "metadata": {},
   "outputs": [],
   "source": [
    "import pandas as pd\n",
    "\n",
    "# Combine this with the other df\n",
    "full_df = to_use.copy()\n",
    "full_df = full_df.reset_index()\n",
    "full_df = pd.concat([full_df, history_df], axis=1)"
   ]
  },
  {
   "cell_type": "code",
   "execution_count": 131,
   "metadata": {},
   "outputs": [
    {
     "data": {
      "text/plain": [
       "0.3898860255295228"
      ]
     },
     "execution_count": 131,
     "metadata": {},
     "output_type": "execute_result"
    }
   ],
   "source": [
    "# We can predict matches using the final ratings, which are in rating_dict\n",
    "predict(rating_dict, params, 'New York Red Bulls', 'New York City FC')"
   ]
  },
  {
   "cell_type": "code",
   "execution_count": 142,
   "metadata": {},
   "outputs": [
    {
     "data": {
      "image/png": "[encoded data removed]",
      "text/plain": [
       "<Figure size 800x400 with 1 Axes>"
      ]
     },
     "metadata": {},
     "output_type": "display_data"
    }
   ],
   "source": [
    "# We can plot the ratings over time\n",
    "import matplotlib.pyplot as plt\n",
    "%matplotlib inline\n",
    "\n",
    "f, ax = plt.subplots(1, 1)\n",
    "\n",
    "start_year = 2012\n",
    "\n",
    "for cur_player in ['New York Red Bulls', 'New York City FC', 'Chicago Fire FC', 'Inter Miami CF']:\n",
    "\n",
    "    history = get_player_skill_history(history_df, rating_dict, full_df['date_corrected'].values, cur_player)\n",
    "    \n",
    "    history = history[history.index >= f'{start_year}-01-01']\n",
    "    ax.step(history.index, history.values, label=cur_player)\n",
    "    \n",
    "ax.legend()\n",
    "\n",
    "f.set_size_inches(8, 4)\n",
    "f.tight_layout()"
   ]
  },
  {
   "cell_type": "code",
   "execution_count": 134,
   "metadata": {},
   "outputs": [
    {
     "name": "stdout",
     "output_type": "stream",
     "text": [
      "37.90172156148\n"
     ]
    }
   ],
   "source": [
    "# Finally, here's the prior standard deviation:\n",
    "import numpy as np\n",
    "\n",
    "prior_sd = np.sqrt(np.squeeze(params.theta['cov_mat']))\n",
    "print(prior_sd)"
   ]
  },
  {
   "cell_type": "code",
   "execution_count": 135,
   "metadata": {},
   "outputs": [
    {
     "data": {
      "text/plain": [
       "-0.6843323503912965"
      ]
     },
     "execution_count": 135,
     "metadata": {},
     "output_type": "execute_result"
    }
   ],
   "source": [
    "# How well does this predict?\n",
    "# This gives the average log probability of the winner\n",
    "# (aka negative log loss)\n",
    "np.mean(np.log(history_df['winner_prior_prob']))"
   ]
  },
  {
   "cell_type": "code",
   "execution_count": 136,
   "metadata": {},
   "outputs": [
    {
     "data": {
      "text/plain": [
       "0.42488772997247576"
      ]
     },
     "execution_count": 136,
     "metadata": {},
     "output_type": "execute_result"
    }
   ],
   "source": [
    "# Accuracy\n",
    "np.mean(history_df['winner_prior_prob'] > 0.5)"
   ]
  },
  {
   "cell_type": "code",
   "execution_count": 150,
   "metadata": {},
   "outputs": [
    {
     "data": {
      "text/plain": [
       "0.566106929164254"
      ]
     },
     "execution_count": 150,
     "metadata": {},
     "output_type": "execute_result"
    }
   ],
   "source": [
    "# Accurary after removing NaNs\n",
    "np.mean(history_df.loc[~(history_df.winner.isna()), 'winner_prior_prob'] > 0.5)"
   ]
  },
  {
   "cell_type": "code",
   "execution_count": 137,
   "metadata": {},
   "outputs": [],
   "source": [
    "# Compare with Elo:\n",
    "from jax_elo.utils.elo import optimise_static_k, compute_elo_ratings"
   ]
  },
  {
   "cell_type": "code",
   "execution_count": 138,
   "metadata": {},
   "outputs": [],
   "source": [
    "k, _ = optimise_static_k(to_use['winner'].values, to_use['loser'].values)"
   ]
  },
  {
   "cell_type": "code",
   "execution_count": 139,
   "metadata": {},
   "outputs": [],
   "source": [
    "elo_results = pd.DataFrame(compute_elo_ratings(to_use['winner'].values, to_use['loser'].values, lambda _: k))"
   ]
  },
  {
   "cell_type": "code",
   "execution_count": 140,
   "metadata": {},
   "outputs": [
    {
     "data": {
      "text/plain": [
       "-0.687955272295096"
      ]
     },
     "execution_count": 140,
     "metadata": {},
     "output_type": "execute_result"
    }
   ],
   "source": [
    "# Standard Elo has a lower log likelihood:\n",
    "np.mean(np.log(elo_results['winner_prob']))"
   ]
  },
  {
   "cell_type": "code",
   "execution_count": 141,
   "metadata": {},
   "outputs": [
    {
     "data": {
      "text/plain": [
       "0.4170650441836882"
      ]
     },
     "execution_count": 141,
     "metadata": {},
     "output_type": "execute_result"
    }
   ],
   "source": [
    "# Accuracy\n",
    "np.mean(elo_results['winner_prob'] > 0.5)"
   ]
  },
  {
   "cell_type": "code",
   "execution_count": 157,
   "metadata": {},
   "outputs": [
    {
     "data": {
      "text/plain": [
       "0.5556842308434665"
      ]
     },
     "execution_count": 157,
     "metadata": {},
     "output_type": "execute_result"
    }
   ],
   "source": [
    "# Accuracy after removing NaNs\n",
    "np.mean(elo_results.loc[~(history_df.winner.isna()), 'winner_prob'] > 0.5)"
   ]
  },
  {
   "cell_type": "markdown",
   "metadata": {},
   "source": [
    "#### Refit margin model after dropping NaN's (that is, ties)"
   ]
  },
  {
   "cell_type": "code",
   "execution_count": 158,
   "metadata": {},
   "outputs": [],
   "source": [
    "to_use_no_na = mlsWL[['winner', 'loser', 'margin', 'date_corrected']].dropna()"
   ]
  },
  {
   "cell_type": "code",
   "execution_count": 159,
   "metadata": {
    "scrolled": true
   },
   "outputs": [
    {
     "name": "stdout",
     "output_type": "stream",
     "text": [
      "theta: {'a1': 0.1, 'a2': array(0.), 'sigma_obs': 0.1, 'cov_mat': Array([[1.000001]], dtype=float64)}\n",
      "cov_mat: [[1.000001]]\n",
      "theta: {'a1': Traced<ShapedArray(float64[])>with<JVPTrace(level=3/0)> with\n",
      "  primal = Traced<ShapedArray(float64[])>with<DynamicJaxprTrace(level=1/0)>\n",
      "  tangent = Traced<ShapedArray(float64[])>with<JaxprTrace(level=2/0)> with\n",
      "    pval = (ShapedArray(float64[]), None)\n",
      "    recipe = JaxprEqnRecipe(eqn_id=<object object at 0x7f95e4902a10>, in_tracers=(Traced<ShapedArray(float64[]):JaxprTrace(level=2/0)>, Traced<ShapedArray(float64[]):JaxprTrace(level=2/0)>), out_tracer_refs=[<weakref at 0x7f95e365b400; to 'JaxprTracer' at 0x7f95e365b360>], out_avals=[ShapedArray(float64[])], primitive=mul, params={}, effects=frozenset(), source_info=SourceInfo(traceback=<jaxlib.xla_extension.Traceback object at 0x7f95e2156bd0>, name_stack=NameStack(stack=(Transform(name='jvp'),)))), 'a2': Traced<ShapedArray(float64[])>with<JVPTrace(level=3/0)> with\n",
      "  primal = Traced<ShapedArray(float64[])>with<DynamicJaxprTrace(level=1/0)>\n",
      "  tangent = Traced<ShapedArray(float64[])>with<JaxprTrace(level=2/0)> with\n",
      "    pval = (ShapedArray(float64[]), None)\n",
      "    recipe = JaxprEqnRecipe(eqn_id=<object object at 0x7f95e5745c50>, in_tracers=(Traced<ShapedArray(float64[1]):JaxprTrace(level=2/0)>,), out_tracer_refs=[<weakref at 0x7f95e578d900; to 'JaxprTracer' at 0x7f95e578d810>], out_avals=[ShapedArray(float64[])], primitive=reshape, params={'new_sizes': (), 'dimensions': None}, effects=frozenset(), source_info=SourceInfo(traceback=<jaxlib.xla_extension.Traceback object at 0x7f9601b82bb0>, name_stack=NameStack(stack=(Transform(name='jvp'),)))), 'sigma_obs': Traced<ShapedArray(float64[])>with<JVPTrace(level=3/0)> with\n",
      "  primal = Traced<ShapedArray(float64[])>with<DynamicJaxprTrace(level=1/0)>\n",
      "  tangent = Traced<ShapedArray(float64[])>with<JaxprTrace(level=2/0)> with\n",
      "    pval = (ShapedArray(float64[]), None)\n",
      "    recipe = JaxprEqnRecipe(eqn_id=<object object at 0x7f95e4902cf0>, in_tracers=(Traced<ShapedArray(float64[]):JaxprTrace(level=2/0)>, Traced<ShapedArray(float64[]):JaxprTrace(level=2/0)>), out_tracer_refs=[<weakref at 0x7f95e5787c70; to 'JaxprTracer' at 0x7f95e5787ae0>], out_avals=[ShapedArray(float64[])], primitive=mul, params={}, effects=frozenset(), source_info=SourceInfo(traceback=<jaxlib.xla_extension.Traceback object at 0x7f95e2168750>, name_stack=NameStack(stack=(Transform(name='jvp'),)))), 'cov_mat': Traced<ShapedArray(float64[1,1])>with<JVPTrace(level=3/0)> with\n",
      "  primal = Traced<ShapedArray(float64[1,1])>with<DynamicJaxprTrace(level=1/0)>\n",
      "  tangent = Traced<ShapedArray(float64[1,1])>with<JaxprTrace(level=2/0)> with\n",
      "    pval = (ShapedArray(float64[1,1]), None)\n",
      "    recipe = JaxprEqnRecipe(eqn_id=<object object at 0x7f95e4902fc0>, in_tracers=(Traced<ShapedArray(float64[1,1]):JaxprTrace(level=2/0)>,), out_tracer_refs=[<weakref at 0x7f95e365b590; to 'JaxprTracer' at 0x7f95e365b630>], out_avals=[ShapedArray(float64[1,1])], primitive=pjit, params={'jaxpr': { \u001b[34m\u001b[22m\u001b[1mlambda \u001b[39m\u001b[22m\u001b[22m; a\u001b[35m:f64[1,1]\u001b[39m. \u001b[34m\u001b[22m\u001b[1mlet\u001b[39m\u001b[22m\u001b[22m  \u001b[34m\u001b[22m\u001b[1min \u001b[39m\u001b[22m\u001b[22m(a,) }, 'in_shardings': (UnspecifiedValue,), 'out_shardings': (UnspecifiedValue,), 'resource_env': None, 'donated_invars': (False,), 'name': 'fn', 'keep_unused': False, 'inline': True}, effects=set(), source_info=SourceInfo(traceback=<jaxlib.xla_extension.Traceback object at 0x7f95e2150ea0>, name_stack=NameStack(stack=(Transform(name='jvp'),))))}\n",
      "cov_mat: Traced<ShapedArray(float64[1,1])>with<JVPTrace(level=3/0)> with\n",
      "  primal = Traced<ShapedArray(float64[1,1])>with<DynamicJaxprTrace(level=1/0)>\n",
      "  tangent = Traced<ShapedArray(float64[1,1])>with<JaxprTrace(level=2/0)> with\n",
      "    pval = (ShapedArray(float64[1,1]), None)\n",
      "    recipe = JaxprEqnRecipe(eqn_id=<object object at 0x7f95e4902fc0>, in_tracers=(Traced<ShapedArray(float64[1,1]):JaxprTrace(level=2/0)>,), out_tracer_refs=[<weakref at 0x7f95e365b590; to 'JaxprTracer' at 0x7f95e365b630>], out_avals=[ShapedArray(float64[1,1])], primitive=pjit, params={'jaxpr': { \u001b[34m\u001b[22m\u001b[1mlambda \u001b[39m\u001b[22m\u001b[22m; a\u001b[35m:f64[1,1]\u001b[39m. \u001b[34m\u001b[22m\u001b[1mlet\u001b[39m\u001b[22m\u001b[22m  \u001b[34m\u001b[22m\u001b[1min \u001b[39m\u001b[22m\u001b[22m(a,) }, 'in_shardings': (UnspecifiedValue,), 'out_shardings': (UnspecifiedValue,), 'resource_env': None, 'donated_invars': (False,), 'name': 'fn', 'keep_unused': False, 'inline': True}, effects=set(), source_info=SourceInfo(traceback=<jaxlib.xla_extension.Traceback object at 0x7f95e2150ea0>, name_stack=NameStack(stack=(Transform(name='jvp'),))))\n",
      "theta: {'a1': 1.0254604458190635, 'a2': array(0.0996099), 'sigma_obs': 1.0660622702340923, 'cov_mat': Array([[1.23233862]], dtype=float64)}\n",
      "cov_mat: [[1.23233862]]\n",
      "theta: {'a1': 13876.545521506647, 'a2': array(197.62170031), 'sigma_obs': 8381.63476064081, 'cov_mat': Array([[168.00737092]], dtype=float64)}\n",
      "cov_mat: [[168.00737092]]\n",
      "theta: {'a1': 1187.519977271441, 'a2': array(59.07301929), 'sigma_obs': 787.2705523445983, 'cov_mat': Array([[9.55599933]], dtype=float64)}\n",
      "cov_mat: [[9.55599933]]\n",
      "theta: {'a1': 72.78316417393012, 'a2': array(15.96628574), 'sigma_obs': 68.95226290747135, 'cov_mat': Array([[0.00041175]], dtype=float64)}\n",
      "cov_mat: [[0.00041175]]\n",
      "theta: {'a1': 1.847756935381926, 'a2': array(4.04297691), 'sigma_obs': 8.063532860170232, 'cov_mat': Array([[0.68752986]], dtype=float64)}\n",
      "cov_mat: [[0.68752986]]\n",
      "theta: {'a1': 0.14523826378318444, 'a2': array(1.14954993), 'sigma_obs': 2.291168460218789, 'cov_mat': Array([[1.07186196]], dtype=float64)}\n",
      "cov_mat: [[1.07186196]]\n",
      "theta: {'a1': 0.513141716632228, 'a2': array(3.01415827), 'sigma_obs': 0.8400760407057589, 'cov_mat': Array([[1.25720785]], dtype=float64)}\n",
      "cov_mat: [[1.25720785]]\n",
      "theta: {'a1': 0.2680609471981506, 'a2': array(1.909574), 'sigma_obs': 1.6136059861907315, 'cov_mat': Array([[1.14562633]], dtype=float64)}\n",
      "cov_mat: [[1.14562633]]\n",
      "theta: {'a1': 16.702793545425607, 'a2': array(3.52353697), 'sigma_obs': 0.7881179863838834, 'cov_mat': Array([[419.0946155]], dtype=float64)}\n",
      "cov_mat: [[419.0946155]]\n",
      "theta: {'a1': 0.3397686506837875, 'a2': array(1.93903498), 'sigma_obs': 1.5959155444431312, 'cov_mat': Array([[0.45848272]], dtype=float64)}\n",
      "cov_mat: [[0.45848272]]\n",
      "theta: {'a1': 0.4579339861627193, 'a2': array(1.98145622), 'sigma_obs': 1.5706141297834963, 'cov_mat': Array([[0.0123001]], dtype=float64)}\n",
      "cov_mat: [[0.0123001]]\n",
      "theta: {'a1': 0.9457013823599525, 'a2': array(2.09934802), 'sigma_obs': 1.41283345243883, 'cov_mat': Array([[2.08987445]], dtype=float64)}\n",
      "cov_mat: [[2.08987445]]\n",
      "theta: {'a1': 0.49265381657022556, 'a2': array(1.99149493), 'sigma_obs': 1.5568535671135202, 'cov_mat': Array([[0.00046933]], dtype=float64)}\n",
      "cov_mat: [[0.00046933]]\n",
      "theta: {'a1': 0.5054990033209907, 'a2': array(2.01921446), 'sigma_obs': 1.5237105846496575, 'cov_mat': Array([[0.00032488]], dtype=float64)}\n",
      "cov_mat: [[0.00032488]]\n",
      "theta: {'a1': 0.5585328604621648, 'a2': array(2.13009261), 'sigma_obs': 1.394704524618864, 'cov_mat': Array([[1.26901969e-05]], dtype=float64)}\n",
      "cov_mat: [[1.26901969e-05]]\n",
      "theta: {'a1': 0.7367261780547514, 'a2': array(2.08674561), 'sigma_obs': 1.2073151653485386, 'cov_mat': Array([[0.02041666]], dtype=float64)}\n",
      "cov_mat: [[0.02041666]]\n",
      "theta: {'a1': 0.9496031954480901, 'a2': array(1.9191836), 'sigma_obs': 0.9397837127874868, 'cov_mat': Array([[0.00848499]], dtype=float64)}\n",
      "cov_mat: [[0.00848499]]\n",
      "theta: {'a1': 1.2644848684407153, 'a2': array(1.47600332), 'sigma_obs': 0.8675010796295207, 'cov_mat': Array([[0.05253066]], dtype=float64)}\n",
      "cov_mat: [[0.05253066]]\n",
      "theta: {'a1': 1.0670476844285, 'a2': array(1.74635098), 'sigma_obs': 0.9112507290194901, 'cov_mat': Array([[0.00110282]], dtype=float64)}\n",
      "cov_mat: [[0.00110282]]\n",
      "theta: {'a1': 1.0681435548097518, 'a2': array(1.68328761), 'sigma_obs': 0.9947467343675721, 'cov_mat': Array([[0.06456847]], dtype=float64)}\n",
      "cov_mat: [[0.06456847]]\n",
      "theta: {'a1': 1.06730589269683, 'a2': array(1.73148912), 'sigma_obs': 0.9305982784054261, 'cov_mat': Array([[0.00726924]], dtype=float64)}\n",
      "cov_mat: [[0.00726924]]\n",
      "theta: {'a1': 0.9804424979556694, 'a2': array(1.71633119), 'sigma_obs': 1.0010118280334304, 'cov_mat': Array([[0.00085928]], dtype=float64)}\n",
      "cov_mat: [[0.00085928]]\n",
      "theta: {'a1': 1.02805390226797, 'a2': array(1.72471902), 'sigma_obs': 0.9617303085894708, 'cov_mat': Array([[0.00363242]], dtype=float64)}\n",
      "cov_mat: [[0.00363242]]\n",
      "theta: {'a1': 1.0328122940497684, 'a2': array(1.70955904), 'sigma_obs': 0.9647820483209578, 'cov_mat': Array([[0.00515877]], dtype=float64)}\n",
      "cov_mat: [[0.00515877]]\n",
      "theta: {'a1': 1.0343402512867463, 'a2': array(1.70819933), 'sigma_obs': 0.9638778733318203, 'cov_mat': Array([[0.00525053]], dtype=float64)}\n",
      "cov_mat: [[0.00525053]]\n",
      "theta: {'a1': 1.034396305655875, 'a2': array(1.70816572), 'sigma_obs': 0.96379631883131, 'cov_mat': Array([[0.00523339]], dtype=float64)}\n",
      "cov_mat: [[0.00523339]]\n",
      "theta: {'a1': 1.0343945576038724, 'a2': array(1.70816204), 'sigma_obs': 0.963798764834867, 'cov_mat': Array([[0.00523343]], dtype=float64)}\n",
      "cov_mat: [[0.00523343]]\n",
      "theta: {'a1': 1.034393365854357, 'a2': array(1.70816051), 'sigma_obs': 0.9637997986660345, 'cov_mat': Array([[0.00523341]], dtype=float64)}\n",
      "cov_mat: [[0.00523341]]\n",
      "theta: {'a1': 1.0343916120274683, 'a2': array(1.70815896), 'sigma_obs': 0.9638008423673254, 'cov_mat': Array([[0.00523341]], dtype=float64)}\n",
      "cov_mat: [[0.00523341]]\n",
      "theta: {'a1': 1.0343887191006067, 'a2': array(1.70815711), 'sigma_obs': 0.9638020869860318, 'cov_mat': Array([[0.00523341]], dtype=float64)}\n",
      "cov_mat: [[0.00523341]]\n",
      "theta: {'a1': 1.0343836056753735, 'a2': array(1.70815465), 'sigma_obs': 0.9638037503110509, 'cov_mat': Array([[0.00523342]], dtype=float64)}\n",
      "cov_mat: [[0.00523342]]\n",
      "theta: {'a1': 1.034374211456165, 'a2': array(1.70815111), 'sigma_obs': 0.9638061343206532, 'cov_mat': Array([[0.00523346]], dtype=float64)}\n",
      "cov_mat: [[0.00523346]]\n",
      "theta: {'a1': 1.0343565707310194, 'a2': array(1.70814583), 'sigma_obs': 0.963809694147515, 'cov_mat': Array([[0.00523355]], dtype=float64)}\n",
      "cov_mat: [[0.00523355]]\n",
      "theta: {'a1': 1.0343230820628186, 'a2': array(1.7081378), 'sigma_obs': 0.9638151086645258, 'cov_mat': Array([[0.00523376]], dtype=float64)}\n",
      "cov_mat: [[0.00523376]]\n",
      "theta: {'a1': 1.0342595480411545, 'a2': array(1.70812566), 'sigma_obs': 0.9638232971976021, 'cov_mat': Array([[0.00523421]], dtype=float64)}\n",
      "cov_mat: [[0.00523421]]\n",
      "theta: {'a1': 1.0341413552584382, 'a2': array(1.70810801), 'sigma_obs': 0.9638351886073028, 'cov_mat': Array([[0.00523513]], dtype=float64)}\n",
      "cov_mat: [[0.00523513]]\n",
      "theta: {'a1': 1.0339320645525711, 'a2': array(1.70808454), 'sigma_obs': 0.9638510092161818, 'cov_mat': Array([[0.00523688]], dtype=float64)}\n",
      "cov_mat: [[0.00523688]]\n",
      "theta: {'a1': 1.0335833981669322, 'a2': array(1.7080563), 'sigma_obs': 0.9638700316235533, 'cov_mat': Array([[0.00523998]], dtype=float64)}\n",
      "cov_mat: [[0.00523998]]\n",
      "theta: {'a1': 1.0330124974757404, 'a2': array(1.7080233), 'sigma_obs': 0.9638922464559702, 'cov_mat': Array([[0.00524526]], dtype=float64)}\n",
      "cov_mat: [[0.00524526]]\n",
      "theta: {'a1': 1.0320522528805378, 'a2': array(1.70798304), 'sigma_obs': 0.9639193377481513, 'cov_mat': Array([[0.00525441]], dtype=float64)}\n",
      "cov_mat: [[0.00525441]]\n",
      "theta: {'a1': 1.0303792094937259, 'a2': array(1.70793079), 'sigma_obs': 0.9639544543243954, 'cov_mat': Array([[0.00527068]], dtype=float64)}\n",
      "cov_mat: [[0.00527068]]\n",
      "theta: {'a1': 1.027383913045151, 'a2': array(1.70785945), 'sigma_obs': 0.9640023560413938, 'cov_mat': Array([[0.00530032]], dtype=float64)}\n",
      "cov_mat: [[0.00530032]]\n",
      "theta: {'a1': 1.0219314635804828, 'a2': array(1.70775856), 'sigma_obs': 0.9640700235593265, 'cov_mat': Array([[0.00535524]], dtype=float64)}\n",
      "cov_mat: [[0.00535524]]\n",
      "theta: {'a1': 1.0119450396021692, 'a2': array(1.70761311), 'sigma_obs': 0.9641674306776143, 'cov_mat': Array([[0.00545818]], dtype=float64)}\n",
      "cov_mat: [[0.00545818]]\n",
      "theta: {'a1': 0.9937600418402819, 'a2': array(1.70740292), 'sigma_obs': 0.9643080075146727, 'cov_mat': Array([[0.00565249]], dtype=float64)}\n",
      "cov_mat: [[0.00565249]]\n",
      "theta: {'a1': 0.9613970142593733, 'a2': array(1.70710461), 'sigma_obs': 0.9645073983126721, 'cov_mat': Array([[0.00601987]], dtype=float64)}\n",
      "cov_mat: [[0.00601987]]\n",
      "theta: {'a1': 0.907238839108353, 'a2': array(1.70671054), 'sigma_obs': 0.9647716709091565, 'cov_mat': Array([[0.00670193]], dtype=float64)}\n",
      "cov_mat: [[0.00670193]]\n",
      "theta: {'a1': 0.8386592454493432, 'a2': array(1.70638371), 'sigma_obs': 0.9649971766872237, 'cov_mat': Array([[0.00772659]], dtype=float64)}\n",
      "cov_mat: [[0.00772659]]\n",
      "theta: {'a1': 0.7963155474525051, 'a2': array(1.7064275), 'sigma_obs': 0.9649819079900929, 'cov_mat': Array([[0.00852876]], dtype=float64)}\n",
      "cov_mat: [[0.00852876]]\n",
      "theta: {'a1': 0.7542800452237525, 'a2': array(1.70674366), 'sigma_obs': 0.9647833010228984, 'cov_mat': Array([[0.00950897]], dtype=float64)}\n",
      "cov_mat: [[0.00950897]]\n",
      "theta: {'a1': 0.6937817017352751, 'a2': array(1.70749988), 'sigma_obs': 0.9642714599740095, 'cov_mat': Array([[0.01124761]], dtype=float64)}\n",
      "cov_mat: [[0.01124761]]\n",
      "theta: {'a1': 0.6090529570671953, 'a2': array(1.70898271), 'sigma_obs': 0.9632603232273369, 'cov_mat': Array([[0.014527]], dtype=float64)}\n",
      "cov_mat: [[0.014527]]\n",
      "theta: {'a1': 0.613770919427964, 'a2': array(1.70968545), 'sigma_obs': 0.9627954528149195, 'cov_mat': Array([[0.01522365]], dtype=float64)}\n",
      "cov_mat: [[0.01522365]]\n",
      "theta: {'a1': 0.6111369604283654, 'a2': array(1.70929346), 'sigma_obs': 0.9630547471040648, 'cov_mat': Array([[0.01483304]], dtype=float64)}\n",
      "cov_mat: [[0.01483304]]\n",
      "theta: {'a1': 0.5833353026973278, 'a2': array(1.70951932), 'sigma_obs': 0.9628888779665759, 'cov_mat': Array([[0.01617308]], dtype=float64)}\n",
      "cov_mat: [[0.01617308]]\n",
      "theta: {'a1': 0.5377065442891091, 'a2': array(1.70973309), 'sigma_obs': 0.9627261559498252, 'cov_mat': Array([[0.01869071]], dtype=float64)}\n",
      "cov_mat: [[0.01869071]]\n",
      "theta: {'a1': 0.47229099404258856, 'a2': array(1.70976316), 'sigma_obs': 0.9626571517437843, 'cov_mat': Array([[0.02327043]], dtype=float64)}\n",
      "cov_mat: [[0.02327043]]\n",
      "theta: {'a1': 0.4658257193373206, 'a2': array(1.70927281), 'sigma_obs': 0.9629493203424156, 'cov_mat': Array([[0.02439409]], dtype=float64)}\n",
      "cov_mat: [[0.02439409]]\n",
      "theta: {'a1': 0.4243037368194946, 'a2': array(1.70844422), 'sigma_obs': 0.9634817713238297, 'cov_mat': Array([[0.02950315]], dtype=float64)}\n",
      "cov_mat: [[0.02950315]]\n",
      "theta: {'a1': 0.37428109974271934, 'a2': array(1.70725688), 'sigma_obs': 0.9643023473920825, 'cov_mat': Array([[0.03890579]], dtype=float64)}\n",
      "cov_mat: [[0.03890579]]\n",
      "theta: {'a1': 0.27407980051306813, 'a2': array(1.70651952), 'sigma_obs': 0.964757124227286, 'cov_mat': Array([[0.06136592]], dtype=float64)}\n",
      "cov_mat: [[0.06136592]]\n",
      "theta: {'a1': 0.33664550891763156, 'a2': array(1.7069931), 'sigma_obs': 0.9644650261282658, 'cov_mat': Array([[0.04635523]], dtype=float64)}\n",
      "cov_mat: [[0.04635523]]\n",
      "theta: {'a1': 0.3106518368620729, 'a2': array(1.70679579), 'sigma_obs': 0.9645835561251095, 'cov_mat': Array([[0.05450859]], dtype=float64)}\n",
      "cov_mat: [[0.05450859]]\n",
      "theta: {'a1': 0.28309499316169134, 'a2': array(1.70686098), 'sigma_obs': 0.9645112489373041, 'cov_mat': Array([[0.06696204]], dtype=float64)}\n",
      "cov_mat: [[0.06696204]]\n",
      "theta: {'a1': 0.2217209856053952, 'a2': array(1.70732245), 'sigma_obs': 0.9641395726281177, 'cov_mat': Array([[0.10093704]], dtype=float64)}\n",
      "cov_mat: [[0.10093704]]\n",
      "theta: {'a1': 0.20567099745725026, 'a2': array(1.70800074), 'sigma_obs': 0.9636412448067057, 'cov_mat': Array([[0.12354716]], dtype=float64)}\n",
      "cov_mat: [[0.12354716]]\n",
      "theta: {'a1': 0.1570131919144532, 'a2': array(1.70877479), 'sigma_obs': 0.9629802417958969, 'cov_mat': Array([[0.19812028]], dtype=float64)}\n",
      "cov_mat: [[0.19812028]]\n",
      "theta: {'a1': 0.14473874407382756, 'a2': array(1.70916444), 'sigma_obs': 0.962583151732733, 'cov_mat': Array([[0.25630491]], dtype=float64)}\n",
      "cov_mat: [[0.25630491]]\n",
      "theta: {'a1': 0.08868662285198066, 'a2': array(1.70951358), 'sigma_obs': 0.9622073230419599, 'cov_mat': Array([[0.50760119]], dtype=float64)}\n",
      "cov_mat: [[0.50760119]]\n",
      "theta: {'a1': 0.1150962708145269, 'a2': array(1.70933844), 'sigma_obs': 0.9623958384584814, 'cov_mat': Array([[0.37091593]], dtype=float64)}\n",
      "cov_mat: [[0.37091593]]\n",
      "theta: {'a1': 0.09666112895033338, 'a2': array(1.70872253), 'sigma_obs': 0.9627841812052782, 'cov_mat': Array([[0.51922619]], dtype=float64)}\n",
      "cov_mat: [[0.51922619]]\n",
      "theta: {'a1': 0.08678642946422858, 'a2': array(1.70736952), 'sigma_obs': 0.963639966965508, 'cov_mat': Array([[0.71482922]], dtype=float64)}\n",
      "cov_mat: [[0.71482922]]\n",
      "theta: {'a1': 0.05002912987098024, 'a2': array(1.70548463), 'sigma_obs': 0.9645548498284328, 'cov_mat': Array([[1.47526023]], dtype=float64)}\n",
      "cov_mat: [[1.47526023]]\n",
      "theta: {'a1': 0.0719712199576129, 'a2': array(1.70667001), 'sigma_obs': 0.9639794442157258, 'cov_mat': Array([[0.96523712]], dtype=float64)}\n",
      "cov_mat: [[0.96523712]]\n",
      "theta: {'a1': 0.05648918959979818, 'a2': array(1.70571165), 'sigma_obs': 0.9643395254436082, 'cov_mat': Array([[1.44938913]], dtype=float64)}\n",
      "cov_mat: [[1.44938913]]\n",
      "theta: {'a1': 0.046430162368826446, 'a2': array(1.70479718), 'sigma_obs': 0.9645836979756071, 'cov_mat': Array([[2.17015975]], dtype=float64)}\n",
      "cov_mat: [[2.17015975]]\n",
      "theta: {'a1': 0.03941983737348119, 'a2': array(1.70410607), 'sigma_obs': 0.9644905456898094, 'cov_mat': Array([[3.43519359]], dtype=float64)}\n",
      "cov_mat: [[3.43519359]]\n",
      "theta: {'a1': 0.018785795705449387, 'a2': array(1.70396158), 'sigma_obs': 0.9640240935473612, 'cov_mat': Array([[8.02700213]], dtype=float64)}\n",
      "cov_mat: [[8.02700213]]\n",
      "theta: {'a1': 0.02960970684604976, 'a2': array(1.70404387), 'sigma_obs': 0.9642897155146023, 'cov_mat': Array([[5.17670025]], dtype=float64)}\n",
      "cov_mat: [[5.17670025]]\n",
      "theta: {'a1': 0.02247635702388512, 'a2': array(1.70440272), 'sigma_obs': 0.9636805173013876, 'cov_mat': Array([[8.27569202]], dtype=float64)}\n",
      "cov_mat: [[8.27569202]]\n",
      "theta: {'a1': 0.017798806424540653, 'a2': array(1.70539065), 'sigma_obs': 0.9624973417276592, 'cov_mat': Array([[13.78084677]], dtype=float64)}\n",
      "cov_mat: [[13.78084677]]\n",
      "theta: {'a1': 0.013934542316709065, 'a2': array(1.7063857), 'sigma_obs': 0.9604794920874822, 'cov_mat': Array([[26.35086528]], dtype=float64)}\n",
      "cov_mat: [[26.35086528]]\n",
      "theta: {'a1': 0.00523957910901016, 'a2': array(1.70665491), 'sigma_obs': 0.9582774369134615, 'cov_mat': Array([[71.77642145]], dtype=float64)}\n",
      "cov_mat: [[71.77642145]]\n",
      "theta: {'a1': 0.005397986894992203, 'a2': array(1.70702546), 'sigma_obs': 0.9574140258764047, 'cov_mat': Array([[99.66486807]], dtype=float64)}\n",
      "cov_mat: [[99.66486807]]\n",
      "theta: {'a1': 0.00605520841468384, 'a2': array(1.70850764), 'sigma_obs': 0.9539642731620088, 'cov_mat': Array([[256.88909603]], dtype=float64)}\n",
      "cov_mat: [[256.88909603]]\n",
      "theta: {'a1': 0.0005790179703046906, 'a2': array(1.71414615), 'sigma_obs': 0.949529857731753, 'cov_mat': Array([[1041.88499601]], dtype=float64)}\n",
      "cov_mat: [[1041.88499601]]\n",
      "theta: {'a1': 0.002698568334383026, 'a2': array(1.71122108), 'sigma_obs': 0.9518289940215455, 'cov_mat': Array([[568.72894038]], dtype=float64)}\n",
      "cov_mat: [[568.72894038]]\n",
      "theta: {'a1': 0.0010385220773480083, 'a2': array(1.70844061), 'sigma_obs': 0.9516138356080691, 'cov_mat': Array([[1350.5170657]], dtype=float64)}\n",
      "cov_mat: [[1350.5170657]]\n",
      "theta: {'a1': 0.0013594527395419354, 'a2': array(1.70760039), 'sigma_obs': 0.9538200712882382, 'cov_mat': Array([[1340.05593889]], dtype=float64)}\n",
      "cov_mat: [[1340.05593889]]\n",
      "theta: {'a1': 0.002026919376305531, 'a2': array(1.70273894), 'sigma_obs': 0.955686206430942, 'cov_mat': Array([[1522.1053141]], dtype=float64)}\n",
      "cov_mat: [[1522.1053141]]\n",
      "theta: {'a1': 0.002004690724341574, 'a2': array(1.7052352), 'sigma_obs': 0.9609097757844306, 'cov_mat': Array([[1819.30147771]], dtype=float64)}\n",
      "cov_mat: [[1819.30147771]]\n",
      "theta: {'a1': 0.0018080682814540488, 'a2': array(1.70661686), 'sigma_obs': 0.9622855470767008, 'cov_mat': Array([[1987.30199098]], dtype=float64)}\n",
      "cov_mat: [[1987.30199098]]\n",
      "theta: {'a1': 0.001821323955658291, 'a2': array(1.70548407), 'sigma_obs': 0.9606364346931305, 'cov_mat': Array([[2018.55388985]], dtype=float64)}\n",
      "cov_mat: [[2018.55388985]]\n",
      "theta: {'a1': 0.0018211382814498772, 'a2': array(1.70577135), 'sigma_obs': 0.9600195855749889, 'cov_mat': Array([[2025.75897892]], dtype=float64)}\n",
      "cov_mat: [[2025.75897892]]\n",
      "theta: {'a1': 0.00181999311384626, 'a2': array(1.70616565), 'sigma_obs': 0.9598245754227258, 'cov_mat': Array([[2027.07063066]], dtype=float64)}\n",
      "cov_mat: [[2027.07063066]]\n",
      "theta: {'a1': 0.0018197432132894416, 'a2': array(1.70625614), 'sigma_obs': 0.9598353131917514, 'cov_mat': Array([[2026.77650427]], dtype=float64)}\n",
      "cov_mat: [[2026.77650427]]\n",
      "theta: {'a1': 0.0018197266188806171, 'a2': array(1.70626316), 'sigma_obs': 0.959841686060862, 'cov_mat': Array([[2026.7098026]], dtype=float64)}\n",
      "cov_mat: [[2026.7098026]]\n",
      "theta: {'a1': 0.0018197273580205337, 'a2': array(1.70626307), 'sigma_obs': 0.9598421093345344, 'cov_mat': Array([[2026.70764856]], dtype=float64)}\n",
      "cov_mat: [[2026.70764856]]\n"
     ]
    }
   ],
   "source": [
    "# Fit the model\n",
    "params, opt_info = fit(to_use_no_na['winner'], to_use_no_na['loser'], to_use_no_na['margin'].values, verbose=True)"
   ]
  },
  {
   "cell_type": "code",
   "execution_count": 160,
   "metadata": {},
   "outputs": [
    {
     "data": {
      "text/plain": [
       "EloParams(theta={'a1': 0.0018197273580205337, 'a2': array(1.70626307), 'sigma_obs': 0.9598421093345344, 'cov_mat': Array([[2026.70764856]], dtype=float64)})"
      ]
     },
     "execution_count": 160,
     "metadata": {},
     "output_type": "execute_result"
    }
   ],
   "source": [
    "params"
   ]
  },
  {
   "cell_type": "code",
   "execution_count": 161,
   "metadata": {
    "scrolled": true
   },
   "outputs": [
    {
     "name": "stderr",
     "output_type": "stream",
     "text": [
      "  0%|                                                  | 0/5181 [00:00<?, ?it/s]\n",
      " 14%|█████▎                                | 721/5181 [00:00<00:00, 7207.41it/s]\u001b[A\n",
      " 41%|██████████████▋                     | 2107/5181 [00:00<00:00, 11117.96it/s]\u001b[A\n",
      " 66%|███████████████████████▋            | 3401/5181 [00:00<00:00, 11923.55it/s]\u001b[A\n",
      " 95%|██████████████████████████████████▏ | 4922/5181 [00:00<00:00, 13218.45it/s]\u001b[A\n",
      "100%|█████████████████████████████████████| 5181/5181 [00:00<00:00, 7163.03it/s]\u001b[A\n",
      "100%|█████████████████████████████████████| 5181/5181 [00:00<00:00, 7211.63it/s]\n"
     ]
    }
   ],
   "source": [
    "# We can calculate the ratings over time:\n",
    "history_df, rating_dict = calculate_ratings(params, to_use_no_na['winner'], to_use_no_na['loser'], \n",
    "                                            to_use_no_na['margin'].values)"
   ]
  },
  {
   "cell_type": "code",
   "execution_count": 162,
   "metadata": {},
   "outputs": [],
   "source": [
    "# Combine this with the other df\n",
    "full_df = to_use_no_na.copy()\n",
    "full_df = full_df.reset_index()\n",
    "full_df = pd.concat([full_df, history_df], axis=1)"
   ]
  },
  {
   "cell_type": "code",
   "execution_count": 163,
   "metadata": {},
   "outputs": [
    {
     "data": {
      "text/plain": [
       "0.38533232087623864"
      ]
     },
     "execution_count": 163,
     "metadata": {},
     "output_type": "execute_result"
    }
   ],
   "source": [
    "# We can predict matches using the final ratings, which are in rating_dict\n",
    "predict(rating_dict, params, 'New York Red Bulls', 'New York City FC')"
   ]
  },
  {
   "cell_type": "code",
   "execution_count": 165,
   "metadata": {},
   "outputs": [
    {
     "data": {
      "image/png": "[encoded data removed]",
      "text/plain": [
       "<Figure size 800x400 with 1 Axes>"
      ]
     },
     "metadata": {},
     "output_type": "display_data"
    }
   ],
   "source": [
    "# We can plot the ratings over time\n",
    "f, ax = plt.subplots(1, 1)\n",
    "\n",
    "start_year = 2012\n",
    "\n",
    "for cur_player in ['New York Red Bulls', 'New York City FC', 'Chicago Fire FC', 'Inter Miami CF']:\n",
    "\n",
    "    history = get_player_skill_history(history_df, rating_dict, full_df['date_corrected'].values, cur_player)\n",
    "    \n",
    "    history = history[history.index >= f'{start_year}-01-01']\n",
    "    ax.step(history.index, history.values, label=cur_player)\n",
    "    \n",
    "ax.legend()\n",
    "\n",
    "f.set_size_inches(8, 4)\n",
    "f.tight_layout()"
   ]
  },
  {
   "cell_type": "code",
   "execution_count": 166,
   "metadata": {},
   "outputs": [
    {
     "name": "stdout",
     "output_type": "stream",
     "text": [
      "45.01896987453064\n"
     ]
    }
   ],
   "source": [
    "# Finally, here's the prior standard deviation:\n",
    "prior_sd = np.sqrt(np.squeeze(params.theta['cov_mat']))\n",
    "print(prior_sd)"
   ]
  },
  {
   "cell_type": "code",
   "execution_count": 167,
   "metadata": {},
   "outputs": [
    {
     "data": {
      "text/plain": [
       "-0.6814055013494467"
      ]
     },
     "execution_count": 167,
     "metadata": {},
     "output_type": "execute_result"
    }
   ],
   "source": [
    "# How well does this predict?\n",
    "# This gives the average log probability of the winner\n",
    "# (aka negative log loss)\n",
    "np.mean(np.log(history_df['winner_prior_prob']))"
   ]
  },
  {
   "cell_type": "code",
   "execution_count": 168,
   "metadata": {},
   "outputs": [
    {
     "data": {
      "text/plain": [
       "0.5651418645049219"
      ]
     },
     "execution_count": 168,
     "metadata": {},
     "output_type": "execute_result"
    }
   ],
   "source": [
    "# Accuracy\n",
    "np.mean(history_df['winner_prior_prob'] > 0.5)"
   ]
  },
  {
   "cell_type": "code",
   "execution_count": 169,
   "metadata": {},
   "outputs": [
    {
     "data": {
      "text/plain": [
       "0.5651418645049219"
      ]
     },
     "execution_count": 169,
     "metadata": {},
     "output_type": "execute_result"
    }
   ],
   "source": [
    "# Accurary after removing NaNs\n",
    "np.mean(history_df.loc[~(history_df.winner.isna()), 'winner_prior_prob'] > 0.5)"
   ]
  },
  {
   "cell_type": "code",
   "execution_count": 172,
   "metadata": {},
   "outputs": [],
   "source": [
    "k, _ = optimise_static_k(to_use_no_na['winner'].values, to_use_no_na['loser'].values)"
   ]
  },
  {
   "cell_type": "code",
   "execution_count": 177,
   "metadata": {},
   "outputs": [],
   "source": [
    "elo_results = pd.DataFrame(compute_elo_ratings(to_use_no_na['winner'].values, to_use_no_na['loser'].values, lambda _: k))"
   ]
  },
  {
   "cell_type": "code",
   "execution_count": 178,
   "metadata": {},
   "outputs": [
    {
     "data": {
      "text/plain": [
       "-0.6862296467340131"
      ]
     },
     "execution_count": 178,
     "metadata": {},
     "output_type": "execute_result"
    }
   ],
   "source": [
    "# Standard Elo has a lower log likelihood:\n",
    "np.mean(np.log(elo_results['winner_prob']))"
   ]
  },
  {
   "cell_type": "code",
   "execution_count": 179,
   "metadata": {},
   "outputs": [
    {
     "data": {
      "text/plain": [
       "0.5556842308434665"
      ]
     },
     "execution_count": 179,
     "metadata": {},
     "output_type": "execute_result"
    }
   ],
   "source": [
    "# Accuracy\n",
    "np.mean(elo_results['winner_prob'] > 0.5)"
   ]
  },
  {
   "cell_type": "code",
   "execution_count": 180,
   "metadata": {},
   "outputs": [
    {
     "data": {
      "text/plain": [
       "0.5556842308434665"
      ]
     },
     "execution_count": 180,
     "metadata": {},
     "output_type": "execute_result"
    }
   ],
   "source": [
    "# Accuracy after removing NaNs\n",
    "np.mean(elo_results.loc[~(history_df.winner.isna()), 'winner_prob'] > 0.5)"
   ]
  }
 ],
 "metadata": {
  "kernelspec": {
   "display_name": "Python 3 (ipykernel)",
   "language": "python",
   "name": "python3"
  },
  "language_info": {
   "codemirror_mode": {
    "name": "ipython",
    "version": 3
   },
   "file_extension": ".py",
   "mimetype": "text/x-python",
   "name": "python",
   "nbconvert_exporter": "python",
   "pygments_lexer": "ipython3",
   "version": "3.9.1"
  }
 },
 "nbformat": 4,
 "nbformat_minor": 2
}
